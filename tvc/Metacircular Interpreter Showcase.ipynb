{
 "cells": [
  {
   "cell_type": "markdown",
   "id": "1a2cf460-4711-4231-973f-0a7725806100",
   "metadata": {},
   "source": [
    "## Showcase of Metacircular Interpreter"
   ]
  },
  {
   "cell_type": "code",
   "execution_count": 1,
   "id": "400e159f-6f1c-45f3-a77a-0c200fbd46da",
   "metadata": {},
   "outputs": [],
   "source": [
    "(load \"metacircular.scm\")"
   ]
  },
  {
   "cell_type": "code",
   "execution_count": 2,
   "id": "0478604a-c645-44cc-ab9d-6217988bd9ae",
   "metadata": {},
   "outputs": [
    {
     "name": "stdout",
     "output_type": "stream",
     "text": [
      "> 1\n",
      "1\n",
      "> (+ 4 5)\n",
      "9\n",
      "> (quote x)\n",
      "x\n",
      "> (define a 10)\n",
      "> a\n",
      "10\n",
      "> (if #t 10 20)\n",
      "10\n",
      "> (if #f 10 20)\n",
      "20\n",
      "> (+ 4 5)\n",
      "9\n",
      "> (lambda () 4)\n",
      "(compound-procedure () 4 (((a + * - / % > < <= = eq?) 10 (primitive #<procedure>) (primitive #<procedure>) (primitive #<procedure>) (primitive #<procedure>) (primitive #<procedure>) (primitive #<procedure>) (primitive #<procedure>) (primitive #<procedure>) (primitive #<procedure>) (primitive #<procedure>))))\n",
      "> (lambda (x) (+ x 1))\n",
      "(compound-procedure (x) (+ x 1) (((a + * - / % > < <= = eq?) 10 (primitive #<procedure>) (primitive #<procedure>) (primitive #<procedure>) (primitive #<procedure>) (primitive #<procedure>) (primitive #<procedure>) (primitive #<procedure>) (primitive #<procedure>) (primitive #<procedure>) (primitive #<procedure>))))\n",
      "> (define f (lambda (x) (+ x 1)))\n",
      "> (f 4)\n",
      "5\n"
     ]
    }
   ],
   "source": [
    "(try-eval '1)\n",
    "(try-eval '(+ 4 5))\n",
    "(try-eval '(quote x))\n",
    "(try-eval '(define a 10))\n",
    "(try-eval 'a)\n",
    "(try-eval '(if #t 10 20))\n",
    "(try-eval '(if #f 10 20))\n",
    "(try-eval '(+ 4 5))\n",
    "(try-eval '(lambda () 4))\n",
    "(try-eval '(lambda (x) (+ x 1)))\n",
    "(try-eval '(define f (lambda (x) (+ x 1))))\n",
    "(try-eval '(f 4))"
   ]
  },
  {
   "cell_type": "code",
   "execution_count": 12,
   "id": "e1e62e8d-d508-4080-8851-505cbf07fb67",
   "metadata": {},
   "outputs": [
    {
     "name": "stdout",
     "output_type": "stream",
     "text": [
      "> (define fact (lambda (n) (if (<= n 0) 1 (* n (fact (- n 1))))))\n",
      "> (fact 5)\n",
      "120\n"
     ]
    }
   ],
   "source": [
    "(try-eval '(define fact (lambda (n) (if (<= n 0) 1 (* n (fact (- n 1)))))))\n",
    "(try-eval '(fact 5))"
   ]
  },
  {
   "cell_type": "code",
   "execution_count": 4,
   "id": "8d39d8dd-61cf-4336-aeed-0819115303a5",
   "metadata": {},
   "outputs": [
    {
     "name": "stdout",
     "output_type": "stream",
     "text": [
      "> (define cons (lambda (p q) (lambda (m) (m p q))))\n",
      "> (define car (lambda (pair) (pair (lambda (p q) p))))\n",
      "> (define cdr (lambda (pair) (pair (lambda (p q) q))))\n",
      "> (define x (cons 1 2))\n",
      "> (car x)\n",
      "1\n",
      "> (cdr x)\n",
      "2\n"
     ]
    }
   ],
   "source": [
    "(try-eval '(define cons \n",
    "             (lambda (p q)\n",
    "               (lambda (m) (m p q)))))\n",
    "\n",
    "(try-eval '(define car \n",
    "             (lambda (pair) \n",
    "               (pair (lambda (p q) p)))))\n",
    "\n",
    "(try-eval '(define cdr \n",
    "             (lambda (pair) \n",
    "               (pair (lambda (p q) q)))))\n",
    "\n",
    "(try-eval '(define x (cons 1 2)))\n",
    "(try-eval '(car x))\n",
    "(try-eval '(cdr x))\n"
   ]
  },
  {
   "cell_type": "code",
   "execution_count": 8,
   "id": "1f94ab02-2398-47a7-bb54-ddca1bc26dc0",
   "metadata": {},
   "outputs": [
    {
     "name": "stdout",
     "output_type": "stream",
     "text": [
      "> (define (make-withdraw balance) (lambda (amount) (begin (set! balance (- balance amount)) balance)))\n",
      "> (define w1 (make-withdraw 100))\n",
      "> (define w2 (make-withdraw 100))\n",
      "> (w1 10)\n",
      "90\n",
      "> (w1 20)\n",
      "70\n",
      "> (w2 20)\n",
      "80\n"
     ]
    }
   ],
   "source": [
    "(try-eval '(define (make-withdraw balance)\n",
    "              (lambda (amount)\n",
    "                (begin\n",
    "                 (set! balance (- balance amount))\n",
    "                 balance))))\n",
    "\n",
    "(try-eval '(define w1 (make-withdraw 100)))\n",
    "(try-eval '(define w2 (make-withdraw 100)))\n",
    "\n",
    "\n",
    "(try-eval '(w1 10))\n",
    "(try-eval '(w1 20))\n",
    "(try-eval '(w2 20))"
   ]
  },
  {
   "cell_type": "code",
   "execution_count": null,
   "id": "32747f15-ee7c-4272-b2e8-4b56791f7035",
   "metadata": {},
   "outputs": [],
   "source": []
  },
  {
   "cell_type": "code",
   "execution_count": null,
   "id": "07f85c50-c8b9-40ce-bc5d-451a293bd5fd",
   "metadata": {},
   "outputs": [],
   "source": []
  },
  {
   "cell_type": "code",
   "execution_count": null,
   "id": "ff937600-8ae2-43ec-b5fd-6080057f2ded",
   "metadata": {},
   "outputs": [],
   "source": []
  },
  {
   "cell_type": "code",
   "execution_count": null,
   "id": "25148d63-a559-4bca-990b-5c827f110dd5",
   "metadata": {},
   "outputs": [],
   "source": []
  }
 ],
 "metadata": {
  "kernelspec": {
   "display_name": "Calysto Scheme 3",
   "language": "scheme",
   "name": "calysto_scheme"
  },
  "language_info": {
   "codemirror_mode": {
    "name": "scheme"
   },
   "mimetype": "text/x-scheme",
   "name": "scheme",
   "pygments_lexer": "scheme"
  }
 },
 "nbformat": 4,
 "nbformat_minor": 5
}
