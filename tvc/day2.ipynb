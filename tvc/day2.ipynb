{
 "cells": [
  {
   "cell_type": "code",
   "execution_count": 32,
   "id": "17da0a47-453e-4f23-9155-c615d0818e82",
   "metadata": {},
   "outputs": [
    {
     "data": {
      "text/plain": [
       "(math)"
      ]
     },
     "execution_count": 32,
     "metadata": {},
     "output_type": "execute_result"
    }
   ],
   "source": [
    "\n",
    "(import \"IPython.display\")\n",
    "(define SVG IPython.display.SVG)\n",
    "\n",
    "(import \"builtins\")\n",
    "(define python builtins)\n",
    "\n",
    "(import \"math\")"
   ]
  },
  {
   "cell_type": "markdown",
   "id": "4ca47ff5-5d23-442f-92be-bf56848dd60d",
   "metadata": {},
   "source": [
    "## Data Abstration"
   ]
  },
  {
   "cell_type": "code",
   "execution_count": 3,
   "id": "6e7a701a-e41f-4c34-b5a0-8baf2f232f22",
   "metadata": {},
   "outputs": [],
   "source": [
    "\n",
    "(define (attach-tag type-tag contents)\n",
    "  (cons type-tag contents))\n",
    "\n",
    "(define (type-tag value)\n",
    "  (car value))\n",
    "\n",
    "(define (contents value)\n",
    "  (cdr value))"
   ]
  },
  {
   "cell_type": "code",
   "execution_count": 20,
   "id": "6dd83300-4d6e-45f1-8414-dbd1b717270e",
   "metadata": {},
   "outputs": [],
   "source": [
    "\n",
    "\n",
    "(define (make-shape tag . args)\n",
    "    (attach-tag tag args))\n",
    "\n",
    "(define (circle r) \n",
    "  (make-shape 'circle r))\n",
    "\n",
    "(define (rectangle w h) \n",
    "  (make-shape 'rectangle w h))\n",
    "\n",
    "(define (make-transformation tag . args)\n",
    "    (attach-tag tag args))\n",
    "\n",
    "(define (rotate angle)\n",
    "  (make-transformation 'rotate angle))\n",
    "\n",
    "(define (translate x y)\n",
    "  (make-transformation 'translate x y))\n",
    "\n",
    "(define (scale x y)\n",
    "  (make-transformation 'scale x y))\n",
    "\n",
    "\n",
    "\n",
    "(define (apply-transformation t s)\n",
    "  (make-shape 'T t s))\n",
    "\n",
    "(define (identity)\n",
    "  (make-transformation 'I))\n",
    "\n",
    "(define (T0)\n",
    "  (make-transform 'T0))\n",
    "\n",
    "(define (combine shapes)\n",
    "  (make-shape 'S+ shapes))\n",
    "\n",
    "(define (compose-transformations transforms)\n",
    "  (make-transformation 'T* transforms))\n",
    "\n",
    "(define (add-transformations transforms)\n",
    "  (make-transformation 'T+ transforms))\n",
    "\n",
    "(define (T* . transformations)\n",
    "  (compose-transformations transformations))"
   ]
  },
  {
   "cell_type": "markdown",
   "id": "7868ecf8-2eb2-4a9b-9b1f-8c2be22712c7",
   "metadata": {},
   "source": [
    "\n",
    "\n",
    "**Problem:** Can you implement the following:\n",
    "\n",
    "* repeat \n",
    "* beside\n",
    "* below\n",
    "* quartlet\n",
    "* cycle4\n",
    "\n"
   ]
  },
  {
   "cell_type": "code",
   "execution_count": 12,
   "id": "6fdffa15-0cc4-484e-859a-ad135b115f7a",
   "metadata": {},
   "outputs": [],
   "source": [
    "(define (repeat t n) \n",
    "      (cond ((= n 0) (lambda (x) x))\n",
    "            (else \n",
    "                 (add-transformations \n",
    "                      t \n",
    "                      (repeat (compose-transformations (list t t)) (- n 1))))))"
   ]
  },
  {
   "cell_type": "code",
   "execution_count": 25,
   "id": "3f84af95-2a30-42a9-a7ab-9c640b15efd7",
   "metadata": {},
   "outputs": [],
   "source": [
    "(define (beside s1 s2) \n",
    "      (combine\n",
    "           (list (apply-transformation\n",
    "                (T*\n",
    "                     (scale 0.5 1)\n",
    "                     (translate -50 0))\n",
    "                s1)\n",
    "           (apply-transformation\n",
    "                (T*\n",
    "                     (scale 0.5 1)\n",
    "                     (translate 50 0))\n",
    "                s2))))"
   ]
  },
  {
   "cell_type": "code",
   "execution_count": 26,
   "id": "75bbe6aa-5ad2-4688-8d66-3564730f19a4",
   "metadata": {},
   "outputs": [
    {
     "data": {
      "text/plain": [
       "(S+ ((T (T* ((scale 0.5 1) (translate -50 0))) (circle 100)) (T (T* ((scale 0.5 1) (translate 50 0))) (circle 100))))"
      ]
     },
     "execution_count": 26,
     "metadata": {},
     "output_type": "execute_result"
    }
   ],
   "source": [
    "(beside (circle 100) (circle 100))"
   ]
  },
  {
   "cell_type": "code",
   "execution_count": 19,
   "id": "bd4b3175-f59d-4af0-b54d-c2892d1c21ba",
   "metadata": {},
   "outputs": [],
   "source": [
    "(define (below s1 s2) \n",
    "      (combine\n",
    "           (apply-transformation\n",
    "                (compose-transformations\n",
    "                     (scale 1 0.5)\n",
    "                     (translate 0 -50))\n",
    "                s1)\n",
    "           (apply-transformation\n",
    "                (compose-transformations\n",
    "                     (scale 1 0.5)\n",
    "                     (translate 0 50))\n",
    "                s2)))"
   ]
  },
  {
   "cell_type": "code",
   "execution_count": 15,
   "id": "8c7740fa-2e73-45b0-b19d-9d13bfca69ab",
   "metadata": {},
   "outputs": [],
   "source": [
    "(define (quartlet p q r s) \n",
    "      (below (beside p q) (beside r s)))"
   ]
  },
  {
   "cell_type": "code",
   "execution_count": 16,
   "id": "82b9ce09-5eaa-4881-9bc9-6a49ff1812bf",
   "metadata": {},
   "outputs": [],
   "source": [
    "(define (cycle-4) \n",
    "      (lambda (x) (quartlet x x x x)))"
   ]
  },
  {
   "cell_type": "markdown",
   "id": "375f52bb-4589-43aa-8fb4-554cc65796cc",
   "metadata": {},
   "source": [
    "### Rendering : Approach 1"
   ]
  },
  {
   "cell_type": "code",
   "execution_count": 34,
   "id": "332c9893-8e0d-4c91-b827-c0931f8f18be",
   "metadata": {},
   "outputs": [],
   "source": [
    "(define proc-table (python.dict))\n",
    "\n",
    "\n",
    "\n",
    "(define (topy value)\n",
    "  (if (list? value) \n",
    "      (python.tuple (map topy value))\n",
    "      value))\n",
    "\n",
    "(define (key op types)\n",
    "  (topy (list op types)))\n",
    "\n",
    "(define (put op type value)\n",
    "  (proc-table.__setitem__ \n",
    "   (key op type)\n",
    "   value))\n",
    "\n",
    "\n",
    "\n",
    "(define (get op type)\n",
    "  (proc-table.__getitem__ \n",
    "   (key op type)))\n",
    "\n"
   ]
  },
  {
   "cell_type": "code",
   "execution_count": 35,
   "id": "21055fe8-6ae4-4914-93c3-2f6265f18fd9",
   "metadata": {},
   "outputs": [],
   "source": [
    "(define (render-node shape)\n",
    "  (dispatch 'render shape))\n",
    "\n",
    ";; (define (add-shapes s1 s2)\n",
    ";;   (dispatch 'add s1 s2))\n",
    "\n",
    "(define (render-circle c)\n",
    "  (format \"<circle r='~a' />\" (car c)))\n",
    "\n",
    "(define (render-rectangle r)\n",
    "  (let ((w (car r))\n",
    "        (h (cadr r)))\n",
    "  (format \"<rect x='~a' y='~a' width='~a' height='~a' />\" \n",
    "          (/ w -2.0)\n",
    "          (/ h -2.0)\n",
    "          w\n",
    "          h)))\n",
    "\n",
    "\n",
    "(put 'render '(circle) render-circle)\n",
    "(put 'render '(rectangle) render-rectangle)"
   ]
  },
  {
   "cell_type": "code",
   "execution_count": 64,
   "id": "2d245d79-1a15-4840-97b8-9adc518b1675",
   "metadata": {},
   "outputs": [],
   "source": [
    "(define (dispatch op . args)\n",
    "    (let ((type-tags (map type-tag args)))\n",
    "      (python.print op type-tags)\n",
    "      (let ((proc (get op type-tags)))\n",
    "        (python.print (map contents args))\n",
    "        (apply proc (map contents args)))))"
   ]
  },
  {
   "cell_type": "code",
   "execution_count": 65,
   "id": "9f2f52d6-3a00-4289-a515-e81ddff7563a",
   "metadata": {},
   "outputs": [
    {
     "name": "stdout",
     "output_type": "stream",
     "text": [
      "render (circle)\n",
      "((50))\n"
     ]
    },
    {
     "data": {
      "text/plain": [
       "\"<circle r='50' />\""
      ]
     },
     "execution_count": 65,
     "metadata": {},
     "output_type": "execute_result"
    }
   ],
   "source": [
    "\n",
    "\n",
    "(render-node (circle 50))"
   ]
  },
  {
   "cell_type": "code",
   "execution_count": 63,
   "id": "97d19149-5900-4639-9052-28556bde7d2c",
   "metadata": {},
   "outputs": [
    {
     "name": "stdout",
     "output_type": "stream",
     "text": [
      "render (rectangle)\n",
      "((100 50))\n"
     ]
    },
    {
     "data": {
      "text/plain": [
       "(\"<rect x='-50.0' y='-25.0' width='100' height='50' />\")"
      ]
     },
     "execution_count": 63,
     "metadata": {},
     "output_type": "execute_result"
    }
   ],
   "source": [
    "(render-node (rectangle 100 50))"
   ]
  },
  {
   "cell_type": "code",
   "execution_count": null,
   "id": "1d090e0b-94ee-4921-a9f8-d3a13b5f8aa4",
   "metadata": {},
   "outputs": [],
   "source": []
  },
  {
   "cell_type": "markdown",
   "id": "314d09b0-bb89-4a9f-b53d-d94fd5c07ac8",
   "metadata": {},
   "source": [
    "\n",
    "## Assignment and Local State\n"
   ]
  },
  {
   "cell_type": "code",
   "execution_count": 69,
   "id": "e9f6311f-aa86-4611-b5ec-e45ef4319db1",
   "metadata": {},
   "outputs": [
    {
     "data": {
      "text/plain": [
       "60"
      ]
     },
     "execution_count": 69,
     "metadata": {},
     "output_type": "execute_result"
    }
   ],
   "source": [
    "\n",
    "\n",
    "(define (make-withdraw balance)\n",
    "  (lambda (amount)\n",
    "    (begin\n",
    "     (set! balance (- balance amount))\n",
    "     balance)))\n",
    "\n",
    "(define w1 (make-withdraw 100))\n",
    "(define w2 (make-withdraw 50))\n",
    "\n",
    "\n",
    "\n",
    "(w1 20)\n",
    "(w1 20)"
   ]
  },
  {
   "cell_type": "markdown",
   "id": "c75f20f6-8673-471c-be97-4a7133fcf4c2",
   "metadata": {},
   "source": [
    "\n",
    "\n",
    "Problem: Write a procedure make-accumulator that returns a an accumulator. Accumulator is a procedure thats a number as argument and accumulates it to a sum.\n",
    "```\n",
    "(define a1 (make-accumulator 10))\n",
    "\n",
    "(a1 5)\n",
    "15\n",
    "\n",
    "(a1 2)\n",
    "17\n",
    "\n",
    "```"
   ]
  },
  {
   "cell_type": "code",
   "execution_count": 70,
   "id": "5268467e-79b3-4621-866c-f5c48dab6e99",
   "metadata": {},
   "outputs": [],
   "source": [
    "(define (make-accumulator initial) \n",
    "  (lambda (amount) \n",
    "    (begin \n",
    "         (set! initial (+ initial amount))\n",
    "         initial)))"
   ]
  },
  {
   "cell_type": "code",
   "execution_count": 74,
   "id": "886a513c-57d5-443c-a97f-50d7a84c4840",
   "metadata": {},
   "outputs": [],
   "source": [
    "(define a1 (make-accumulator 10))"
   ]
  },
  {
   "cell_type": "code",
   "execution_count": 75,
   "id": "223b057f-b084-499e-88f4-9e09da6cc3b2",
   "metadata": {},
   "outputs": [
    {
     "data": {
      "text/plain": [
       "14"
      ]
     },
     "execution_count": 75,
     "metadata": {},
     "output_type": "execute_result"
    }
   ],
   "source": [
    "(a1 2)\n",
    "(a1 2)"
   ]
  },
  {
   "cell_type": "code",
   "execution_count": 84,
   "id": "9ea17660-61cb-47eb-9592-61b68c1a5cb5",
   "metadata": {},
   "outputs": [],
   "source": [
    "(define (make-account balance) \n",
    "  (define (withdraw amount) \n",
    "    (begin\n",
    "     (set! balance (- balance amount))\n",
    "     balance))\n",
    "  (define (deposit amount) \n",
    "    (begin\n",
    "     (set! balance (+ balance amount))\n",
    "     balance))\n",
    "  (define (dispatch method) \n",
    "    (cond ((eq? method 'withdraw) withdraw)\n",
    "          ((eq? method 'deposit) deposit)\n",
    "          ((eq? method 'balance) balance)\n",
    "          (else (error \"wrong method \" method))))\n",
    "  dispatch)"
   ]
  },
  {
   "cell_type": "code",
   "execution_count": 85,
   "id": "08052219-235f-4e51-aa78-776203a31c48",
   "metadata": {},
   "outputs": [],
   "source": [
    "(define a1 (make-account 100))\n",
    "(define a2 (make-account 50))"
   ]
  },
  {
   "cell_type": "code",
   "execution_count": 86,
   "id": "3a95f3a0-f709-4bfc-a6ee-ed2ecca9a4d3",
   "metadata": {},
   "outputs": [
    {
     "data": {
      "text/plain": [
       "90"
      ]
     },
     "execution_count": 86,
     "metadata": {},
     "output_type": "execute_result"
    }
   ],
   "source": [
    "((a1 'withdraw) 10)"
   ]
  },
  {
   "cell_type": "code",
   "execution_count": 87,
   "id": "4bcc8f90-b347-42f5-afaf-a32c9a580fb0",
   "metadata": {},
   "outputs": [
    {
     "data": {
      "text/plain": [
       "90"
      ]
     },
     "execution_count": 87,
     "metadata": {},
     "output_type": "execute_result"
    }
   ],
   "source": [
    "(a1 'balance)"
   ]
  },
  {
   "cell_type": "code",
   "execution_count": 79,
   "id": "ae117b66-126b-4593-9c24-ca2608dac1fb",
   "metadata": {},
   "outputs": [
    {
     "data": {
      "text/plain": [
       "80"
      ]
     },
     "execution_count": 79,
     "metadata": {},
     "output_type": "execute_result"
    }
   ],
   "source": [
    "((a1 'withdraw) 10)"
   ]
  },
  {
   "cell_type": "code",
   "execution_count": 80,
   "id": "624ba864-9be5-4cc0-8dbf-9bfa0f32d2eb",
   "metadata": {},
   "outputs": [
    {
     "data": {
      "text/plain": [
       "30"
      ]
     },
     "execution_count": 80,
     "metadata": {},
     "output_type": "execute_result"
    }
   ],
   "source": [
    "((a2 'withdraw) 20)"
   ]
  },
  {
   "cell_type": "code",
   "execution_count": 81,
   "id": "63590f9d-5211-4616-8259-d5e9d10e31e1",
   "metadata": {},
   "outputs": [],
   "source": [
    "(define (withdraw account amount) \n",
    "  ((account 'withdraw) amount))\n",
    "\n",
    "(define (deposit account amount) \n",
    "  ((account 'deposit) amount))"
   ]
  },
  {
   "cell_type": "code",
   "execution_count": 82,
   "id": "fd60027f-b680-4526-a333-ebb5a3802c7f",
   "metadata": {},
   "outputs": [
    {
     "data": {
      "text/plain": [
       "100"
      ]
     },
     "execution_count": 82,
     "metadata": {},
     "output_type": "execute_result"
    }
   ],
   "source": [
    "(deposit a1 20)"
   ]
  },
  {
   "cell_type": "code",
   "execution_count": 88,
   "id": "2f9e473f-b2a6-44e7-9228-c944a0e37079",
   "metadata": {},
   "outputs": [
    {
     "data": {
      "text/plain": [
       "-4"
      ]
     },
     "execution_count": 88,
     "metadata": {},
     "output_type": "execute_result"
    }
   ],
   "source": [
    "(- 1 2 3)"
   ]
  },
  {
   "cell_type": "code",
   "execution_count": null,
   "id": "b566ccd5-4483-4b7f-b914-c12bcaa352c6",
   "metadata": {},
   "outputs": [],
   "source": []
  },
  {
   "cell_type": "code",
   "execution_count": null,
   "id": "3504c345-08c3-45c5-8ac9-404d2350f6a2",
   "metadata": {},
   "outputs": [],
   "source": []
  },
  {
   "cell_type": "code",
   "execution_count": null,
   "id": "e2fd8263-cc3f-467a-889a-4b4e10d80a6f",
   "metadata": {},
   "outputs": [],
   "source": []
  },
  {
   "cell_type": "code",
   "execution_count": null,
   "id": "544a39fa-5658-4f81-b3ec-ea745cb8a4a0",
   "metadata": {},
   "outputs": [],
   "source": []
  },
  {
   "cell_type": "code",
   "execution_count": null,
   "id": "372af895-dfae-42fb-8948-c36ac828bf04",
   "metadata": {},
   "outputs": [],
   "source": []
  }
 ],
 "metadata": {
  "kernelspec": {
   "display_name": "Calysto Scheme 3",
   "language": "scheme",
   "name": "calysto_scheme"
  },
  "language_info": {
   "codemirror_mode": {
    "name": "scheme"
   },
   "mimetype": "text/x-scheme",
   "name": "scheme",
   "pygments_lexer": "scheme"
  }
 },
 "nbformat": 4,
 "nbformat_minor": 5
}
