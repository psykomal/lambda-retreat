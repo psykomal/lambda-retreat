{
 "cells": [
  {
   "cell_type": "markdown",
   "id": "04a5b4f7-6eed-4a92-80f1-95d6566b1050",
   "metadata": {
    "tags": []
   },
   "source": [
    "## Function nth to get nth element from list"
   ]
  },
  {
   "cell_type": "code",
   "execution_count": 28,
   "id": "b8dcec69-c584-4bf7-898a-ea5e852758d3",
   "metadata": {},
   "outputs": [],
   "source": [
    "(define (nth l n) \n",
    "     (cond ((= n 0) (car l))\n",
    "           ((< n 0) None)\n",
    "           ((null? l) None)\n",
    "           (else (nth (cdr l) (- n 1)))))"
   ]
  },
  {
   "cell_type": "code",
   "execution_count": 29,
   "id": "bcf65aef-0711-4a75-8381-f21700a7e905",
   "metadata": {},
   "outputs": [],
   "source": [
    "(define l1 (list 1 2 3 4 5))"
   ]
  },
  {
   "cell_type": "code",
   "execution_count": 30,
   "id": "17d4c27b-2ce3-40f0-91db-12f7f3d5e10e",
   "metadata": {},
   "outputs": [],
   "source": [
    "(nth l1 -1)"
   ]
  },
  {
   "cell_type": "code",
   "execution_count": 31,
   "id": "4aea5975-5fd5-4d26-982e-71f3d4458cc3",
   "metadata": {},
   "outputs": [
    {
     "data": {
      "text/plain": [
       "4"
      ]
     },
     "execution_count": 31,
     "metadata": {},
     "output_type": "execute_result"
    }
   ],
   "source": [
    "(nth l1 3)"
   ]
  },
  {
   "cell_type": "code",
   "execution_count": 32,
   "id": "edc0c5ae-277c-491d-a92f-df1b72de7f0d",
   "metadata": {},
   "outputs": [],
   "source": [
    "(nth l1 10)"
   ]
  },
  {
   "cell_type": "code",
   "execution_count": 33,
   "id": "9bc150ed-6ca4-4651-8898-4a126b1bd5e3",
   "metadata": {},
   "outputs": [
    {
     "data": {
      "text/plain": [
       "#f"
      ]
     },
     "execution_count": 33,
     "metadata": {},
     "output_type": "execute_result"
    }
   ],
   "source": [
    "(null? '(1 2))"
   ]
  },
  {
   "cell_type": "code",
   "execution_count": null,
   "id": "3046e788-dd22-4e61-8dda-00aca5418a29",
   "metadata": {},
   "outputs": [],
   "source": []
  },
  {
   "cell_type": "markdown",
   "id": "bc2b5f1a-7445-4265-a716-5f04fec6cd63",
   "metadata": {},
   "source": [
    "### Problem set 3"
   ]
  },
  {
   "cell_type": "code",
   "execution_count": 1,
   "id": "8d56a464-b2af-4dab-b683-36e516f176e8",
   "metadata": {},
   "outputs": [],
   "source": [
    "(define (fib-updater a b)\n",
    "    (list (+ a b) a))\n",
    "\n",
    "(define (f-updater a b c)\n",
    "    (list (+ a (* 2 b) (* 3 c)) a b))"
   ]
  },
  {
   "cell_type": "markdown",
   "id": "13b4734e-c845-4a22-8c4f-037f84c355a1",
   "metadata": {},
   "source": [
    " #### Problem 1: Implement the function repeat to make the examples shown above work as shown."
   ]
  },
  {
   "cell_type": "code",
   "execution_count": 2,
   "id": "736aa38b-4682-4411-b150-0ca94f6c8b8c",
   "metadata": {},
   "outputs": [],
   "source": [
    "(define (repeat f n args) \n",
    "          (cond ((= n 0) args)\n",
    "                (else (repeat f (- n 1) (apply f args)))))"
   ]
  },
  {
   "cell_type": "code",
   "execution_count": 3,
   "id": "396f7bcb-de22-4592-bb09-140c3897a7eb",
   "metadata": {},
   "outputs": [
    {
     "data": {
      "text/plain": [
       "(13 8)"
      ]
     },
     "execution_count": 3,
     "metadata": {},
     "output_type": "execute_result"
    }
   ],
   "source": [
    "(repeat fib-updater 6 (list 1 0))"
   ]
  },
  {
   "cell_type": "code",
   "execution_count": 4,
   "id": "5988fbac-a5a9-4497-9a5e-92986608a0a7",
   "metadata": {},
   "outputs": [
    {
     "data": {
      "text/plain": [
       "(59 25 11)"
      ]
     },
     "execution_count": 4,
     "metadata": {},
     "output_type": "execute_result"
    }
   ],
   "source": [
    "(repeat f-updater 4 (list 2 1 0)) ; (59 25 11)"
   ]
  },
  {
   "cell_type": "markdown",
   "id": "2a57d733-d3d7-4ab1-8bb4-cb14f42351cd",
   "metadata": {},
   "source": [
    "#### Problem 2: \n",
    "\n",
    "Problem 2: Alyssa P. Hacker got really excited after seeing the elegance of the repeat function and tried to use it to rewrite the fib-iter.\n",
    "```\n",
    "(def (fib n)\n",
    "    (fib-iter 1 0 n))\n",
    "\n",
    "(define (fib-iter a b n)\n",
    "  (last (repeat\n",
    "        n\n",
    "        (list a b)\n",
    "        (lambda (a b) (list (+ a b) a))))\n",
    "```\n",
    "The last procedure takes a list and returns the last element from it.\n",
    "\n",
    "That seemed like a lot more code than what she started with. Determined to make it better, she came up with the following plan.\n",
    "```\n",
    "(define (fib n)\n",
    "    (iterative-process\n",
    "        n\n",
    "        (list 1 0)\n",
    "        (lambda (a b) (list (+ a b) a))))\n",
    "```\n",
    "Can you help her by implementing the iterative-process procedure?\n",
    "\n",
    "Please note that you may have to implement the last procedure as well."
   ]
  },
  {
   "cell_type": "code",
   "execution_count": 94,
   "id": "d39f6b6d-9fe6-4078-8142-dab669bd81d9",
   "metadata": {},
   "outputs": [],
   "source": [
    "(define (last-el lst) ;lst)\n",
    "      ;; (display (format \"~a \\n\" lst))\n",
    "      (cond ((null? lst) None) \n",
    "            ((null? (cdr lst)) (car lst))\n",
    "            (else (last-el (cdr lst)))))"
   ]
  },
  {
   "cell_type": "code",
   "execution_count": 95,
   "id": "d71ab4f1-c8b2-4b03-9f79-11f7f0342449",
   "metadata": {},
   "outputs": [],
   "source": [
    "(define (fib n)\n",
    "    (last-el (iterative-process\n",
    "        n\n",
    "        (list 1 0)\n",
    "        (lambda (a b) (list (+ a b) a)))))"
   ]
  },
  {
   "cell_type": "code",
   "execution_count": 96,
   "id": "c299634d-26aa-4894-9d47-515c8544b2ce",
   "metadata": {},
   "outputs": [],
   "source": [
    "(define (iterative-process n args f) \n",
    "      (cond ((= n 0) args)\n",
    "            (else (iterative-process (- n 1) (apply f args) f))))"
   ]
  },
  {
   "cell_type": "code",
   "execution_count": 97,
   "id": "acd8f247-e754-4c7b-8a6b-89d1c068d209",
   "metadata": {},
   "outputs": [
    {
     "data": {
      "text/plain": [
       "8"
      ]
     },
     "execution_count": 97,
     "metadata": {},
     "output_type": "execute_result"
    }
   ],
   "source": [
    "(fib 6)"
   ]
  },
  {
   "cell_type": "markdown",
   "id": "5d1b27f3-1f73-4688-85e3-0ec070fd42a1",
   "metadata": {},
   "source": [
    "#### Problem 3: \n",
    "Problem 3 Rewrite the procudure f from the Exercise 1.11 using iterative-process."
   ]
  },
  {
   "cell_type": "code",
   "execution_count": 100,
   "id": "3fcedc5d-55a3-43e3-916a-343684e6a8a5",
   "metadata": {},
   "outputs": [],
   "source": [
    "\n",
    "(define (f n) \n",
    "    (define (f2 n_0 n_1 n_2) \n",
    "            (+ \n",
    "                n_2\n",
    "                (* 2 n_1)\n",
    "                (* 3 n_0)))\n",
    "    (define (f-iter count n_0 n_1 n_2) \n",
    "            (cond ((= count 0) n_0)\n",
    "                  (else (f-iter (- count 1) n_1 n_2 (f2 n_0 n_1 n_2)))))\n",
    "    (f-iter n 0 1 2))\n",
    "\n",
    "    "
   ]
  },
  {
   "cell_type": "code",
   "execution_count": 112,
   "id": "2cdbb4a8-88b6-4fcf-aa5e-c7b8a78ef7c0",
   "metadata": {},
   "outputs": [],
   "source": [
    "(define (new_f n)\n",
    "    (last-el (iterative-process\n",
    "                n\n",
    "                (list 2 1 0)\n",
    "                (lambda (a b c) (list (+ a (* 2 b) (* 3 c)) a b)))))"
   ]
  },
  {
   "cell_type": "code",
   "execution_count": 113,
   "id": "7ed8bb78-742e-4b1e-80fe-759913b93a92",
   "metadata": {},
   "outputs": [
    {
     "data": {
      "text/plain": [
       "1892"
      ]
     },
     "execution_count": 113,
     "metadata": {},
     "output_type": "execute_result"
    }
   ],
   "source": [
    "(f 10)"
   ]
  },
  {
   "cell_type": "code",
   "execution_count": 114,
   "id": "01dc84c3-10ea-447b-93f7-b66e8308bf00",
   "metadata": {},
   "outputs": [
    {
     "data": {
      "text/plain": [
       "1892"
      ]
     },
     "execution_count": 114,
     "metadata": {},
     "output_type": "execute_result"
    }
   ],
   "source": [
    "(new_f 10)"
   ]
  },
  {
   "cell_type": "markdown",
   "id": "9e2d7c87-ec3d-4a0a-a833-75c005065cf8",
   "metadata": {},
   "source": [
    "#### Problem 4: \n",
    "\n",
    "Problem 4 Can you rewrite the following implementation of expt from Chapter 1.2 of SICP using iterative-process.\n",
    "\n",
    "```\n",
    "(define (expt b n)\n",
    "  (expt-iter b n 1))\n",
    "\n",
    "(define (expt-iter b counter product)\n",
    "  (if (= counter 0)\n",
    "      product\n",
    "      (expt-iter b\n",
    "                 (- counter 1)\n",
    "                 (* b product))))\n",
    "```"
   ]
  },
  {
   "cell_type": "code",
   "execution_count": 110,
   "id": "059792ce-4035-4953-9629-f2dd3029d123",
   "metadata": {},
   "outputs": [],
   "source": [
    "(define (expt b n)\n",
    "  (expt-iter b n 1))\n",
    "\n",
    "(define (expt-iter b counter product)\n",
    "  (if (= counter 0)\n",
    "      product\n",
    "      (expt-iter b\n",
    "                 (- counter 1)\n",
    "                 (* b product))))"
   ]
  },
  {
   "cell_type": "code",
   "execution_count": 138,
   "id": "4685c11c-f7ff-416c-a421-76428ff18d04",
   "metadata": {},
   "outputs": [
    {
     "data": {
      "text/plain": [
       "1024"
      ]
     },
     "execution_count": 138,
     "metadata": {},
     "output_type": "execute_result"
    }
   ],
   "source": [
    "(expt 2 10)"
   ]
  },
  {
   "cell_type": "code",
   "execution_count": 136,
   "id": "4e019b08-e255-43f8-8499-07ce3a31e99e",
   "metadata": {},
   "outputs": [],
   "source": [
    "(define (new_expt b n) \n",
    "    (last-el (iterative-process\n",
    "              n\n",
    "              '(1)\n",
    "              (lambda (x) (list (* x b))))))"
   ]
  },
  {
   "cell_type": "code",
   "execution_count": 140,
   "id": "79ad8a0e-f927-41a5-af8c-27f37dc446bc",
   "metadata": {},
   "outputs": [
    {
     "data": {
      "text/plain": [
       "1024"
      ]
     },
     "execution_count": 140,
     "metadata": {},
     "output_type": "execute_result"
    }
   ],
   "source": [
    "(new_expt 2 10)"
   ]
  },
  {
   "cell_type": "markdown",
   "id": "3a47a689-892b-4fb6-95da-c32b7ca7a5e0",
   "metadata": {},
   "source": [
    "#### Problem 5: \n",
    "\n",
    "Problem 5: Delighted with the generalization, Alyssa showed this to Ben Bitdiddle, who is not quite impressed with this implementation. He challenged her to generalize it even further so that he can define fib in the following way.\n",
    "```\n",
    "(define fib\n",
    "    (make-iterative-process\n",
    "        (list 1 0)\n",
    "        (lambda a b) (list (+ a b) a)))\n",
    "```\n",
    "Alyssa is thought this made the code less readable, but accepted the challenge relunctantly. Can you help her implement make-iterative-process?"
   ]
  },
  {
   "cell_type": "code",
   "execution_count": 146,
   "id": "2aaf0f8d-9676-449e-98ea-a886c86f58f5",
   "metadata": {},
   "outputs": [],
   "source": [
    "(define fib\n",
    "    (make-iterative-process\n",
    "        (list 1 0)\n",
    "        (lambda (a b) (list (+ a b) a))))"
   ]
  },
  {
   "cell_type": "code",
   "execution_count": 145,
   "id": "8675e7d1-33bd-4232-b4ec-e81a87598588",
   "metadata": {},
   "outputs": [],
   "source": [
    "(define (make-iterative-process args f) \n",
    "      (lambda (x) \n",
    "            (last-el (iterative-process\n",
    "                      x\n",
    "                      args\n",
    "                      f))))"
   ]
  },
  {
   "cell_type": "code",
   "execution_count": 150,
   "id": "5573d913-cba7-403e-b834-0de7c5f0bcc7",
   "metadata": {},
   "outputs": [
    {
     "data": {
      "text/plain": [
       "8"
      ]
     },
     "execution_count": 150,
     "metadata": {},
     "output_type": "execute_result"
    }
   ],
   "source": [
    "(fib 6)"
   ]
  },
  {
   "cell_type": "code",
   "execution_count": null,
   "id": "9d83e509-6e04-4549-8824-d176628377a7",
   "metadata": {},
   "outputs": [],
   "source": []
  },
  {
   "cell_type": "code",
   "execution_count": null,
   "id": "d13a9463-f4ba-40e5-8f3d-f97480f7558c",
   "metadata": {},
   "outputs": [],
   "source": []
  },
  {
   "cell_type": "code",
   "execution_count": null,
   "id": "53221661-bd9b-4f4e-aaa2-1668afe64c8e",
   "metadata": {},
   "outputs": [],
   "source": []
  }
 ],
 "metadata": {
  "kernelspec": {
   "display_name": "Calysto Scheme 3",
   "language": "scheme",
   "name": "calysto_scheme"
  },
  "language_info": {
   "codemirror_mode": {
    "name": "scheme"
   },
   "mimetype": "text/x-scheme",
   "name": "scheme",
   "pygments_lexer": "scheme"
  }
 },
 "nbformat": 4,
 "nbformat_minor": 5
}
