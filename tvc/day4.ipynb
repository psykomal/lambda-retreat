{
 "cells": [
  {
   "cell_type": "markdown",
   "id": "f9ee4a67-547a-4358-994d-9ae2201b7b18",
   "metadata": {},
   "source": [
    "\n",
    "# Interpreter v1\n",
    "\n",
    "Implement an interpreter for a small subset of scheme with the following features in Python.\n",
    "```\n",
    "    Constant literals - only integers\n",
    "    variable reference\n",
    "    if/conditionals\n",
    "    define\n",
    "    procedure call - only primitive procedures (+, *, >, <, =)\n",
    "```\n"
   ]
  },
  {
   "cell_type": "code",
   "execution_count": 2,
   "id": "e02a48b7-7d91-4b50-940e-d63fbb11e214",
   "metadata": {},
   "outputs": [
    {
     "data": {
      "text/plain": [
       "(math)"
      ]
     },
     "execution_count": 2,
     "metadata": {},
     "output_type": "execute_result"
    }
   ],
   "source": [
    "(import \"builtins\")\n",
    "(define python builtins)\n",
    "(import \"math\")"
   ]
  },
  {
   "cell_type": "code",
   "execution_count": 3,
   "id": "b8c3592b-d785-4ec0-a786-7f3f096cf8a6",
   "metadata": {},
   "outputs": [],
   "source": [
    "(define apply-in-underlying-scheme apply)"
   ]
  },
  {
   "cell_type": "code",
   "execution_count": 4,
   "id": "53f46d2c-50a6-4a47-a2e8-6d8246d824ce",
   "metadata": {},
   "outputs": [],
   "source": [
    "\n",
    "; eval\n",
    "\n",
    "(define (eval exp env)\n",
    "  ;; (display (format \"exp** ~a \\n\" exp))\n",
    "  (cond ((self-evaluating? exp)\n",
    "             exp)\n",
    "        ((variable? exp)\n",
    "             (lookup-variable-value exp env))\n",
    "        ((definition? exp)\n",
    "             (eval-definition exp env))\n",
    "        ((if? exp)\n",
    "             (eval-if exp env))\n",
    "        ((lambda? exp)\n",
    "             (eval-lambda exp env))\n",
    "        ((application? exp)\n",
    "             (apply (eval (operator exp) env)\n",
    "                    (list-of-values (operands exp) env) env))\n",
    "        (else\n",
    "             (error \"Unknown expression type: EVAL\" exp))))\n",
    "\n",
    "\n",
    "(define (list-of-values exps env)\n",
    "  (map (lambda (e) (eval e env))\n",
    "       exps))\n",
    "\n",
    "(define operator car)\n",
    "(define operands cdr)\n",
    "\n",
    ";; types\n",
    "\n",
    "(define (self-evaluating? exp) \n",
    "   (number? exp))\n",
    "(define (variable? exp) (symbol? exp))\n",
    "(define (definition? exp) (tagged-list? exp 'define))\n",
    "(define (if? exp) (tagged-list? exp 'if))\n",
    "(define (application? exp) (pair? exp))\n",
    "\n",
    "(define (tagged-list? exp tag)\n",
    "  (and (pair? exp) \n",
    "       (eq? (car exp) tag)))\n",
    "\n",
    "\n",
    "\n",
    "\n",
    ";; if\n",
    "\n",
    "(define (eval-if exp env)\n",
    "  (let ((t (eval (if-test exp) env)))\n",
    "    (if t (eval (if-consequence exp) env) (eval (if-alternative exp) env))))\n",
    "\n",
    "(define if-test cadr)\n",
    "(define if-consequence caddr)\n",
    "(define if-alternative cadddr)\n",
    "\n",
    ";; definition\n",
    "\n",
    "(define (eval-definition exp env)\n",
    "  \n",
    "    (let ((var (definition-var exp)))\n",
    "        (cond ((variable? var) \n",
    "                  (let ((val (eval (definition-value exp) env)))\n",
    "                       (set-variable! var val env)))\n",
    "\n",
    "              ((list? var)\n",
    "                   (let ((params (cdr var))\n",
    "                         (body (definition-value exp)))\n",
    "                       (set-variable! (car var) (make-procedure params body None) env)))\n",
    "\n",
    "              (else (error eval-definition \"invalid definition decalaration\")))))\n",
    "\n",
    "(define definition-var cadr)\n",
    "(define definition-value caddr)\n",
    "\n"
   ]
  },
  {
   "cell_type": "markdown",
   "id": "9b55b670-9a5e-43ab-9079-ec3bb28722a0",
   "metadata": {},
   "source": [
    "\n",
    "\n",
    "**Task:**\n",
    "\n",
    "Add support for lambda and function application.\n",
    "```\n",
    "(define (apply proc arguments)\n",
    "  (cond ((primitive-procedure? proc)\n",
    "         (apply-in-underlying-scheme proc arguments))\n",
    "        ((compound-procedure? proc)\n",
    "         ...\n",
    "         )\n",
    "        (else\n",
    "         (error \"unknown procedure\" proc))))\n",
    "\n",
    "\n",
    "\n",
    "(define (primitive-procedure? proc) (tagged-list? 'primitive))\n",
    "(define (compound-procedure? proc) (tagged-list? 'compound-procedure))\n",
    "\n",
    "(define (make-procedure params body env)\n",
    "  ...)\n",
    "\n",
    "(define (procedure-params proc) ...)\n",
    "(define (procedure-body proc) ...)\n",
    "(define (procedure-env proc) ...)\n",
    "\n",
    "(define (lambda? exp) ...)\n",
    "\n",
    "(define lambda-params cadr)\n",
    "(define lambda-body caddr)\n",
    "\n",
    "(define (eval-lambda exp env)\n",
    "  (make-procedure (lambda-params exp)\n",
    "                  (lambda-body exp)\n",
    "                  env))\n",
    "```\n",
    "How to represent the env as chain of frames.\n"
   ]
  },
  {
   "cell_type": "code",
   "execution_count": 5,
   "id": "db29f3aa-7b38-41d4-8970-8671051c2fa5",
   "metadata": {},
   "outputs": [],
   "source": [
    "\n",
    ";; procedure\n",
    "\n",
    "(define (primitive-procedure? proc) (tagged-list? proc 'primitive))\n",
    "(define (compound-procedure? proc) (tagged-list? proc 'compound-procedure))\n",
    "\n",
    "(define (make-procedure params body env)\n",
    "  (list 'compound-procedure params body env)\n",
    ")\n",
    "\n",
    "(define (procedure-params proc) \n",
    "    (cadr proc))\n",
    "(define (procedure-body proc)\n",
    "    (caddr proc))\n",
    "(define (procedure-env proc)\n",
    "    (cadddr proc))\n",
    "\n",
    ";; lambda\n",
    "\n",
    "(define (lambda? exp) \n",
    "      (eq? (car exp) 'lambda))\n",
    "\n",
    "(define lambda-params cadr)\n",
    "(define lambda-body caddr)\n",
    "\n",
    "(define (eval-lambda exp env)\n",
    "  (make-procedure (lambda-params exp)\n",
    "                  (lambda-body exp)\n",
    "                  env))"
   ]
  },
  {
   "cell_type": "code",
   "execution_count": 6,
   "id": "deaaf35a-3e15-4168-a43f-6fde69784f0a",
   "metadata": {},
   "outputs": [],
   "source": [
    ";; apply\n",
    "\n",
    "(define (apply proc arguments env)\n",
    "  ;; (display (format \"*apply* ~a ~a \\n\" proc arguments))\n",
    "  (cond ((primitive-procedure? proc)\n",
    "             (apply-in-underlying-scheme (cadr proc) arguments))\n",
    "        ((compound-procedure? proc)\n",
    "             (apply-compound-procedure proc arguments env))\n",
    "        ((compound-procedure? proc)\n",
    "             (apply-compound-procedure proc arguments env))\n",
    "        (else\n",
    "             (error \"unknown procedure\" proc))))\n",
    "\n",
    "(define (apply-compound-procedure proc args env) \n",
    "        ;; (display (format \"apply-compund* ~a ~a \\n\" proc args))\n",
    "        (let (\n",
    "                (proc-params (procedure-params proc))\n",
    "                (proc-body (procedure-body proc))\n",
    "                (proc-env (procedure-env proc)))\n",
    "\n",
    "                (let ((newenv (extend-env proc-params args env)))\n",
    "                    (eval proc-body newenv))))"
   ]
  },
  {
   "cell_type": "markdown",
   "id": "bb49c5ba-f301-4fdc-a5dd-62eded2b204c",
   "metadata": {},
   "source": [
    "### Env"
   ]
  },
  {
   "cell_type": "code",
   "execution_count": 7,
   "id": "ad832a2c-751e-4f42-a49e-8eac45e1bed8",
   "metadata": {},
   "outputs": [],
   "source": [
    "\n",
    ";; frame\n",
    "\n",
    "(define (make-frame variables values)\n",
    "   (cons variables values))\n",
    "\n",
    "(define frame-variables car)\n",
    "(define frame-values cdr)\n",
    "\n",
    "(define (add-binding-to-frame! var val frame)\n",
    "  (set-car! frame (cons var (car frame)))\n",
    "  (set-cdr! frame (cons val (cdr frame))))\n",
    "\n",
    "(define (lookup-frame-var var frame)\n",
    "  (define (scan vars vals)\n",
    "    (cond ((null? vars) #f)\n",
    "          ((eq? (car vars) var) (car vals))\n",
    "          (else (scan (cdr vars) (cdr vals)))))\n",
    "  (scan (car frame) (cdr frame)))\n"
   ]
  },
  {
   "cell_type": "code",
   "execution_count": 8,
   "id": "911a348e-16d8-461e-b1eb-feb23cd74108",
   "metadata": {},
   "outputs": [],
   "source": [
    ";; env\n",
    "\n",
    "(define (make-env)\n",
    "  '())\n",
    "\n",
    "(define (empty? env) \n",
    "  (or (null? env) (eq? env None)))\n",
    "\n",
    "(define (extend-env params args env) \n",
    "  (let ((new-frame (make-frame params args))) \n",
    "    (cons new-frame env)\n",
    "    ))\n",
    "\n",
    "(define (frame-env env) (car env))\n",
    "\n",
    "(define (parent env)\n",
    "  (if (null? (cdr env))\n",
    "      None\n",
    "      (cdr env)))\n",
    "\n",
    "(define (lookup-env-var var env)\n",
    "  (cond ((empty? env) #f)\n",
    "        (else \n",
    "             (let ((lookupval (lookup-frame-var var (frame-env env))))\n",
    "                   (cond ((not lookupval) \n",
    "                              (lookup-env-var var (parent env)))\n",
    "                         (else lookupval))))\n",
    "  ))\n",
    "\n",
    "(define lookup-variable-value lookup-env-var)\n",
    "\n",
    "\n",
    "(define (set-variable! var val env) \n",
    "      (if (empty? env)\n",
    "          None\n",
    "          (add-binding-to-frame! var val (frame-env env))))"
   ]
  },
  {
   "cell_type": "code",
   "execution_count": 33,
   "id": "141fafa6-ed06-4a28-bf95-a059ac32b926",
   "metadata": {},
   "outputs": [],
   "source": [
    ";; primitives\n",
    "\n",
    "(define primitives \n",
    "  (list\n",
    "   (list '+ (list 'primitive +))\n",
    "   (list '* (list 'primitive *))\n",
    "   (list '- (list 'primitive -))\n",
    "   (list '/ (list 'primitive /))\n",
    "   (list '% (list 'primitive %))\n",
    "   (list '> (list 'primitive >))\n",
    "   (list '< (list 'primitive <))\n",
    "   (list '<= (list 'primitive <=))\n",
    "   (list 'eq? (list 'primitive eq?))))\n",
    "\n",
    "(define primitive-vars (map car primitives))\n",
    "(define primitive-vals (map cadr primitives))\n",
    "\n",
    "(define (setup-env)\n",
    "  (let ((newenv (make-env)))\n",
    "    (extend-env primitive-vars primitive-vals newenv)\n",
    "    ))\n",
    "\n",
    "(define (top-frame env)\n",
    "  (cadr env))"
   ]
  },
  {
   "cell_type": "code",
   "execution_count": 34,
   "id": "535e2828-6fcd-4522-bb37-debe5a28b44e",
   "metadata": {},
   "outputs": [
    {
     "data": {
      "text/plain": [
       "#f"
      ]
     },
     "execution_count": 34,
     "metadata": {},
     "output_type": "execute_result"
    }
   ],
   "source": [
    ";; test env\n",
    "\n",
    "(define x (setup-env))\n",
    "(define x1 (extend-env '(x y) '(1 2) x))\n",
    "(define x2 (extend-env '(w z) '(3 4) x1))\n",
    "\n",
    "(lookup-env-var 'f x2)"
   ]
  },
  {
   "cell_type": "code",
   "execution_count": null,
   "id": "aa7821aa-0fdc-4e6b-9cda-30cf65c71581",
   "metadata": {},
   "outputs": [],
   "source": []
  },
  {
   "cell_type": "code",
   "execution_count": 35,
   "id": "b128c000-ce5b-4efd-b34d-faed0961760a",
   "metadata": {},
   "outputs": [],
   "source": [
    ";; setup env\n",
    "\n",
    "(define the-global-env (setup-env))\n",
    "(define env the-global-env)\n"
   ]
  },
  {
   "cell_type": "code",
   "execution_count": 36,
   "id": "afb4f9c6-7255-47be-8228-a67b0fe69f34",
   "metadata": {},
   "outputs": [
    {
     "data": {
      "text/plain": [
       "1"
      ]
     },
     "execution_count": 36,
     "metadata": {},
     "output_type": "execute_result"
    }
   ],
   "source": [
    "(eval '1 env)"
   ]
  },
  {
   "cell_type": "code",
   "execution_count": 37,
   "id": "5c532089-8434-478f-9892-2dc8ce577cb4",
   "metadata": {},
   "outputs": [],
   "source": [
    "(eval '(define x 5) env)"
   ]
  },
  {
   "cell_type": "code",
   "execution_count": 38,
   "id": "e3d6aedf-8393-49cd-8066-faca9bec9f15",
   "metadata": {},
   "outputs": [
    {
     "data": {
      "text/plain": [
       "6"
      ]
     },
     "execution_count": 38,
     "metadata": {},
     "output_type": "execute_result"
    }
   ],
   "source": [
    "(eval '(+ x 1) env)"
   ]
  },
  {
   "cell_type": "code",
   "execution_count": 39,
   "id": "d1853331-2ef2-4e7d-8ae4-5534d97a50d1",
   "metadata": {},
   "outputs": [
    {
     "data": {
      "text/plain": [
       "5"
      ]
     },
     "execution_count": 39,
     "metadata": {},
     "output_type": "execute_result"
    }
   ],
   "source": [
    "(eval 'x env)"
   ]
  },
  {
   "cell_type": "code",
   "execution_count": 40,
   "id": "7b7d3820-028c-45af-a6ec-6eafbc2ed56d",
   "metadata": {},
   "outputs": [
    {
     "data": {
      "text/plain": [
       "(((x + * - / % > < <= eq?) 5 (primitive #<procedure>) (primitive #<procedure>) (primitive #<procedure>) (primitive #<procedure>) (primitive #<procedure>) (primitive #<procedure>) (primitive #<procedure>) (primitive #<procedure>) (primitive #<procedure>)))"
      ]
     },
     "execution_count": 40,
     "metadata": {},
     "output_type": "execute_result"
    }
   ],
   "source": [
    "env"
   ]
  },
  {
   "cell_type": "code",
   "execution_count": 41,
   "id": "9762bbd5-9c81-4041-85f5-37d8fbfee9dd",
   "metadata": {},
   "outputs": [],
   "source": [
    "(eval '(define (add y) (+ y y)) env)"
   ]
  },
  {
   "cell_type": "code",
   "execution_count": 42,
   "id": "a50ab4ab-077b-412d-bb10-a2477054a710",
   "metadata": {},
   "outputs": [
    {
     "data": {
      "text/plain": [
       "(((add x + * - / % > < <= eq?) (compound-procedure (y) (+ y y) None) 5 (primitive #<procedure>) (primitive #<procedure>) (primitive #<procedure>) (primitive #<procedure>) (primitive #<procedure>) (primitive #<procedure>) (primitive #<procedure>) (primitive #<procedure>) (primitive #<procedure>)))"
      ]
     },
     "execution_count": 42,
     "metadata": {},
     "output_type": "execute_result"
    }
   ],
   "source": [
    "env"
   ]
  },
  {
   "cell_type": "code",
   "execution_count": 43,
   "id": "00df606a-d455-455c-9e26-6cecd012f96b",
   "metadata": {},
   "outputs": [
    {
     "data": {
      "text/plain": [
       "4"
      ]
     },
     "execution_count": 43,
     "metadata": {},
     "output_type": "execute_result"
    }
   ],
   "source": [
    "(eval '(add 2) env)"
   ]
  },
  {
   "cell_type": "code",
   "execution_count": 44,
   "id": "330684e5-fba5-4c56-ac59-7a782f2d7d70",
   "metadata": {},
   "outputs": [],
   "source": [
    "(eval '(define (square y) (* y y)) env)"
   ]
  },
  {
   "cell_type": "code",
   "execution_count": 45,
   "id": "1041a156-73bf-42c1-a417-ad5639440a19",
   "metadata": {},
   "outputs": [
    {
     "data": {
      "text/plain": [
       "25"
      ]
     },
     "execution_count": 45,
     "metadata": {},
     "output_type": "execute_result"
    }
   ],
   "source": [
    "(eval '(square 5) env)"
   ]
  },
  {
   "cell_type": "code",
   "execution_count": 46,
   "id": "e22972c9-81b5-4f1c-b04b-e6b44fcdcbd9",
   "metadata": {},
   "outputs": [
    {
     "data": {
      "text/plain": [
       "4"
      ]
     },
     "execution_count": 46,
     "metadata": {},
     "output_type": "execute_result"
    }
   ],
   "source": [
    "(eval '((lambda (x) (+ x x)) 2) env)"
   ]
  },
  {
   "cell_type": "code",
   "execution_count": 47,
   "id": "27b1b80c-e1b1-4627-979a-ff9795ff23bd",
   "metadata": {},
   "outputs": [],
   "source": [
    "(eval '(define t (lambda (x) (+ x x))) env)"
   ]
  },
  {
   "cell_type": "code",
   "execution_count": 48,
   "id": "2c1d6686-6502-4732-8bea-d8751acb48fa",
   "metadata": {},
   "outputs": [
    {
     "data": {
      "text/plain": [
       "10"
      ]
     },
     "execution_count": 48,
     "metadata": {},
     "output_type": "execute_result"
    }
   ],
   "source": [
    "(eval '(t 5) env)"
   ]
  },
  {
   "cell_type": "code",
   "execution_count": 49,
   "id": "84e1a494-81ee-4d90-8b5d-e8016cac4a80",
   "metadata": {},
   "outputs": [],
   "source": [
    "(eval '(define (factorial n)\n",
    "             (if (eq? n 1) \n",
    "                 1\n",
    "                 (* n (factorial (- n 1))))) env)"
   ]
  },
  {
   "cell_type": "code",
   "execution_count": 50,
   "id": "7714b13f-0d32-4dca-ba3e-3fc5bded081b",
   "metadata": {
    "tags": []
   },
   "outputs": [
    {
     "data": {
      "text/plain": [
       "120"
      ]
     },
     "execution_count": 50,
     "metadata": {},
     "output_type": "execute_result"
    }
   ],
   "source": [
    "(eval '(factorial 5) env)"
   ]
  },
  {
   "cell_type": "code",
   "execution_count": 51,
   "id": "fdfaa94c-1e07-4684-991d-3bf2d0493948",
   "metadata": {},
   "outputs": [
    {
     "data": {
      "text/plain": [
       "1"
      ]
     },
     "execution_count": 51,
     "metadata": {},
     "output_type": "execute_result"
    }
   ],
   "source": [
    "(eval '(if (> (t 5) 9) 1 0) env)"
   ]
  },
  {
   "cell_type": "code",
   "execution_count": 52,
   "id": "545180fd-4f70-4b26-ad3d-48be7ef06e28",
   "metadata": {},
   "outputs": [
    {
     "data": {
      "text/plain": [
       "14400"
      ]
     },
     "execution_count": 52,
     "metadata": {},
     "output_type": "execute_result"
    }
   ],
   "source": [
    "(eval '(square (factorial 5)) env)"
   ]
  },
  {
   "cell_type": "code",
   "execution_count": 53,
   "id": "561cabe0-aab0-4c28-b04f-e50001ae4a18",
   "metadata": {},
   "outputs": [],
   "source": [
    "(eval '(define circle-area (lambda (r) (* 3.14159 (* r r)))) env)"
   ]
  },
  {
   "cell_type": "code",
   "execution_count": 54,
   "id": "423ab7eb-4c8f-450b-8479-d0c3395c5f28",
   "metadata": {},
   "outputs": [
    {
     "data": {
      "text/plain": [
       "28.27431"
      ]
     },
     "execution_count": 54,
     "metadata": {},
     "output_type": "execute_result"
    }
   ],
   "source": [
    "(eval '(circle-area 3) env)"
   ]
  },
  {
   "cell_type": "code",
   "execution_count": 55,
   "id": "35793bb4-d804-4f93-947d-a50c0af801a6",
   "metadata": {},
   "outputs": [],
   "source": [
    "(eval '(define fact (lambda (n) (if (<= n 1) 1 (* n (fact (- n 1)))))) env)"
   ]
  },
  {
   "cell_type": "code",
   "execution_count": 56,
   "id": "fbc73471-52b4-43f3-a79d-a3b840b51f8d",
   "metadata": {},
   "outputs": [
    {
     "data": {
      "text/plain": [
       "3628800"
      ]
     },
     "execution_count": 56,
     "metadata": {},
     "output_type": "execute_result"
    }
   ],
   "source": [
    "(eval '(fact 10) env)"
   ]
  },
  {
   "cell_type": "code",
   "execution_count": null,
   "id": "c0b05853-3e78-4395-8811-164d9716070d",
   "metadata": {},
   "outputs": [],
   "source": []
  },
  {
   "cell_type": "code",
   "execution_count": null,
   "id": "edbb34d1-d995-4d89-b60d-de9f421135e5",
   "metadata": {},
   "outputs": [],
   "source": []
  },
  {
   "cell_type": "code",
   "execution_count": null,
   "id": "e92c4d1c-fdde-4fad-bbc5-1f34a0685ee6",
   "metadata": {},
   "outputs": [],
   "source": []
  }
 ],
 "metadata": {
  "kernelspec": {
   "display_name": "Calysto Scheme 3",
   "language": "scheme",
   "name": "calysto_scheme"
  },
  "language_info": {
   "codemirror_mode": {
    "name": "scheme"
   },
   "mimetype": "text/x-scheme",
   "name": "scheme",
   "pygments_lexer": "scheme"
  }
 },
 "nbformat": 4,
 "nbformat_minor": 5
}
