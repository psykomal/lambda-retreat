{
 "cells": [
  {
   "cell_type": "markdown",
   "id": "04a5b4f7-6eed-4a92-80f1-95d6566b1050",
   "metadata": {
    "tags": []
   },
   "source": [
    "## Function nth to get nth element from list"
   ]
  },
  {
   "cell_type": "code",
   "execution_count": 28,
   "id": "b8dcec69-c584-4bf7-898a-ea5e852758d3",
   "metadata": {},
   "outputs": [],
   "source": [
    "(define (nth l n) \n",
    "     (cond ((= n 0) (car l))\n",
    "           ((< n 0) None)\n",
    "           ((null? l) None)\n",
    "           (else (nth (cdr l) (- n 1)))))"
   ]
  },
  {
   "cell_type": "code",
   "execution_count": 29,
   "id": "bcf65aef-0711-4a75-8381-f21700a7e905",
   "metadata": {},
   "outputs": [],
   "source": [
    "(define l1 (list 1 2 3 4 5))"
   ]
  },
  {
   "cell_type": "code",
   "execution_count": 30,
   "id": "17d4c27b-2ce3-40f0-91db-12f7f3d5e10e",
   "metadata": {},
   "outputs": [],
   "source": [
    "(nth l1 -1)"
   ]
  },
  {
   "cell_type": "code",
   "execution_count": 31,
   "id": "4aea5975-5fd5-4d26-982e-71f3d4458cc3",
   "metadata": {},
   "outputs": [
    {
     "data": {
      "text/plain": [
       "4"
      ]
     },
     "execution_count": 31,
     "metadata": {},
     "output_type": "execute_result"
    }
   ],
   "source": [
    "(nth l1 3)"
   ]
  },
  {
   "cell_type": "code",
   "execution_count": 32,
   "id": "edc0c5ae-277c-491d-a92f-df1b72de7f0d",
   "metadata": {},
   "outputs": [],
   "source": [
    "(nth l1 10)"
   ]
  },
  {
   "cell_type": "code",
   "execution_count": 33,
   "id": "9bc150ed-6ca4-4651-8898-4a126b1bd5e3",
   "metadata": {},
   "outputs": [
    {
     "data": {
      "text/plain": [
       "#f"
      ]
     },
     "execution_count": 33,
     "metadata": {},
     "output_type": "execute_result"
    }
   ],
   "source": [
    "(null? '(1 2))"
   ]
  },
  {
   "cell_type": "code",
   "execution_count": null,
   "id": "3046e788-dd22-4e61-8dda-00aca5418a29",
   "metadata": {},
   "outputs": [],
   "source": []
  },
  {
   "cell_type": "markdown",
   "id": "bc2b5f1a-7445-4265-a716-5f04fec6cd63",
   "metadata": {},
   "source": [
    "### Problem set 3"
   ]
  },
  {
   "cell_type": "code",
   "execution_count": 1,
   "id": "8d56a464-b2af-4dab-b683-36e516f176e8",
   "metadata": {},
   "outputs": [],
   "source": [
    "(define (fib-updater a b)\n",
    "    (list (+ a b) a))\n",
    "\n",
    "(define (f-updater a b c)\n",
    "    (list (+ a (* 2 b) (* 3 c)) a b))"
   ]
  },
  {
   "cell_type": "markdown",
   "id": "13b4734e-c845-4a22-8c4f-037f84c355a1",
   "metadata": {},
   "source": [
    " #### Problem 1: Implement the function repeat to make the examples shown above work as shown."
   ]
  },
  {
   "cell_type": "code",
   "execution_count": 2,
   "id": "736aa38b-4682-4411-b150-0ca94f6c8b8c",
   "metadata": {},
   "outputs": [],
   "source": [
    "(define (repeat f n args) \n",
    "          (cond ((= n 0) args)\n",
    "                (else (repeat f (- n 1) (apply f args)))))"
   ]
  },
  {
   "cell_type": "code",
   "execution_count": 3,
   "id": "396f7bcb-de22-4592-bb09-140c3897a7eb",
   "metadata": {},
   "outputs": [
    {
     "data": {
      "text/plain": [
       "(13 8)"
      ]
     },
     "execution_count": 3,
     "metadata": {},
     "output_type": "execute_result"
    }
   ],
   "source": [
    "(repeat fib-updater 6 (list 1 0))"
   ]
  },
  {
   "cell_type": "code",
   "execution_count": 4,
   "id": "5988fbac-a5a9-4497-9a5e-92986608a0a7",
   "metadata": {},
   "outputs": [
    {
     "data": {
      "text/plain": [
       "(59 25 11)"
      ]
     },
     "execution_count": 4,
     "metadata": {},
     "output_type": "execute_result"
    }
   ],
   "source": [
    "(repeat f-updater 4 (list 2 1 0)) ; (59 25 11)"
   ]
  },
  {
   "cell_type": "markdown",
   "id": "2a57d733-d3d7-4ab1-8bb4-cb14f42351cd",
   "metadata": {},
   "source": [
    "#### Problem 2: \n",
    "\n",
    "Problem 2: Alyssa P. Hacker got really excited after seeing the elegance of the repeat function and tried to use it to rewrite the fib-iter.\n",
    "```\n",
    "(def (fib n)\n",
    "    (fib-iter 1 0 n))\n",
    "\n",
    "(define (fib-iter a b n)\n",
    "  (last (repeat\n",
    "        n\n",
    "        (list a b)\n",
    "        (lambda (a b) (list (+ a b) a))))\n",
    "```\n",
    "The last procedure takes a list and returns the last element from it.\n",
    "\n",
    "That seemed like a lot more code than what she started with. Determined to make it better, she came up with the following plan.\n",
    "```\n",
    "(define (fib n)\n",
    "    (iterative-process\n",
    "        n\n",
    "        (list 1 0)\n",
    "        (lambda (a b) (list (+ a b) a))))\n",
    "```\n",
    "Can you help her by implementing the iterative-process procedure?\n",
    "\n",
    "Please note that you may have to implement the last procedure as well."
   ]
  },
  {
   "cell_type": "code",
   "execution_count": 151,
   "id": "d39f6b6d-9fe6-4078-8142-dab669bd81d9",
   "metadata": {},
   "outputs": [],
   "source": [
    "(define (last-el lst) ;lst)\n",
    "      ;; (display (format \"~a \\n\" lst))\n",
    "      (cond ((null? lst) None) \n",
    "            ((null? (cdr lst)) (car lst))\n",
    "            (else (last-el (cdr lst)))))"
   ]
  },
  {
   "cell_type": "code",
   "execution_count": 152,
   "id": "d71ab4f1-c8b2-4b03-9f79-11f7f0342449",
   "metadata": {},
   "outputs": [],
   "source": [
    "(define (fib n)\n",
    "    (iterative-process\n",
    "        n\n",
    "        (list 1 0)\n",
    "        (lambda (a b) (list (+ a b) a))))"
   ]
  },
  {
   "cell_type": "code",
   "execution_count": 155,
   "id": "c299634d-26aa-4894-9d47-515c8544b2ce",
   "metadata": {},
   "outputs": [],
   "source": [
    "(define (iterative-process n args f) \n",
    "      (last-el (cond ((= n 0) args)\n",
    "            (else (repeat f (- n 1) (apply f args))))))"
   ]
  },
  {
   "cell_type": "code",
   "execution_count": 156,
   "id": "acd8f247-e754-4c7b-8a6b-89d1c068d209",
   "metadata": {},
   "outputs": [
    {
     "data": {
      "text/plain": [
       "8"
      ]
     },
     "execution_count": 156,
     "metadata": {},
     "output_type": "execute_result"
    }
   ],
   "source": [
    "(fib 6)"
   ]
  },
  {
   "cell_type": "markdown",
   "id": "5d1b27f3-1f73-4688-85e3-0ec070fd42a1",
   "metadata": {},
   "source": [
    "#### Problem 3: \n",
    "Problem 3 Rewrite the procudure f from the Exercise 1.11 using iterative-process."
   ]
  },
  {
   "cell_type": "code",
   "execution_count": 157,
   "id": "3fcedc5d-55a3-43e3-916a-343684e6a8a5",
   "metadata": {},
   "outputs": [],
   "source": [
    "\n",
    "(define (f n) \n",
    "    (define (f2 n_0 n_1 n_2) \n",
    "            (+ \n",
    "                n_2\n",
    "                (* 2 n_1)\n",
    "                (* 3 n_0)))\n",
    "    (define (f-iter count n_0 n_1 n_2) \n",
    "            (cond ((= count 0) n_0)\n",
    "                  (else (f-iter (- count 1) n_1 n_2 (f2 n_0 n_1 n_2)))))\n",
    "    (f-iter n 0 1 2))\n",
    "\n",
    "    "
   ]
  },
  {
   "cell_type": "code",
   "execution_count": 161,
   "id": "2cdbb4a8-88b6-4fcf-aa5e-c7b8a78ef7c0",
   "metadata": {},
   "outputs": [],
   "source": [
    "(define (new_f n)\n",
    "    (iterative-process\n",
    "                n\n",
    "                (list 2 1 0)\n",
    "                (lambda (a b c) (list (+ a (* 2 b) (* 3 c)) a b))))"
   ]
  },
  {
   "cell_type": "code",
   "execution_count": 162,
   "id": "7ed8bb78-742e-4b1e-80fe-759913b93a92",
   "metadata": {},
   "outputs": [
    {
     "data": {
      "text/plain": [
       "1892"
      ]
     },
     "execution_count": 162,
     "metadata": {},
     "output_type": "execute_result"
    }
   ],
   "source": [
    "(f 10)"
   ]
  },
  {
   "cell_type": "code",
   "execution_count": 163,
   "id": "01dc84c3-10ea-447b-93f7-b66e8308bf00",
   "metadata": {},
   "outputs": [
    {
     "data": {
      "text/plain": [
       "1892"
      ]
     },
     "execution_count": 163,
     "metadata": {},
     "output_type": "execute_result"
    }
   ],
   "source": [
    "(new_f 10)"
   ]
  },
  {
   "cell_type": "markdown",
   "id": "9e2d7c87-ec3d-4a0a-a833-75c005065cf8",
   "metadata": {},
   "source": [
    "#### Problem 4: \n",
    "\n",
    "Problem 4 Can you rewrite the following implementation of expt from Chapter 1.2 of SICP using iterative-process.\n",
    "\n",
    "```\n",
    "(define (expt b n)\n",
    "  (expt-iter b n 1))\n",
    "\n",
    "(define (expt-iter b counter product)\n",
    "  (if (= counter 0)\n",
    "      product\n",
    "      (expt-iter b\n",
    "                 (- counter 1)\n",
    "                 (* b product))))\n",
    "```"
   ]
  },
  {
   "cell_type": "code",
   "execution_count": 164,
   "id": "059792ce-4035-4953-9629-f2dd3029d123",
   "metadata": {},
   "outputs": [],
   "source": [
    "(define (expt b n)\n",
    "  (expt-iter b n 1))\n",
    "\n",
    "(define (expt-iter b counter product)\n",
    "  (if (= counter 0)\n",
    "      product\n",
    "      (expt-iter b\n",
    "                 (- counter 1)\n",
    "                 (* b product))))"
   ]
  },
  {
   "cell_type": "code",
   "execution_count": 165,
   "id": "4685c11c-f7ff-416c-a421-76428ff18d04",
   "metadata": {},
   "outputs": [
    {
     "data": {
      "text/plain": [
       "1024"
      ]
     },
     "execution_count": 165,
     "metadata": {},
     "output_type": "execute_result"
    }
   ],
   "source": [
    "(expt 2 10)"
   ]
  },
  {
   "cell_type": "code",
   "execution_count": 168,
   "id": "4e019b08-e255-43f8-8499-07ce3a31e99e",
   "metadata": {},
   "outputs": [],
   "source": [
    "(define (new_expt b n) \n",
    "    (iterative-process\n",
    "              n\n",
    "              '(1)\n",
    "              (lambda (x) (list (* x b)))))"
   ]
  },
  {
   "cell_type": "code",
   "execution_count": 169,
   "id": "79ad8a0e-f927-41a5-af8c-27f37dc446bc",
   "metadata": {},
   "outputs": [
    {
     "data": {
      "text/plain": [
       "1024"
      ]
     },
     "execution_count": 169,
     "metadata": {},
     "output_type": "execute_result"
    }
   ],
   "source": [
    "(new_expt 2 10)"
   ]
  },
  {
   "cell_type": "markdown",
   "id": "3a47a689-892b-4fb6-95da-c32b7ca7a5e0",
   "metadata": {},
   "source": [
    "#### Problem 5: \n",
    "\n",
    "Problem 5: Delighted with the generalization, Alyssa showed this to Ben Bitdiddle, who is not quite impressed with this implementation. He challenged her to generalize it even further so that he can define fib in the following way.\n",
    "```\n",
    "(define fib\n",
    "    (make-iterative-process\n",
    "        (list 1 0)\n",
    "        (lambda a b) (list (+ a b) a)))\n",
    "```\n",
    "Alyssa is thought this made the code less readable, but accepted the challenge relunctantly. Can you help her implement make-iterative-process?"
   ]
  },
  {
   "cell_type": "code",
   "execution_count": 173,
   "id": "2aaf0f8d-9676-449e-98ea-a886c86f58f5",
   "metadata": {},
   "outputs": [],
   "source": [
    "(define fib\n",
    "    (make-iterative-process\n",
    "        (list 1 0)\n",
    "        (lambda (a b) (list (+ a b) a))))"
   ]
  },
  {
   "cell_type": "code",
   "execution_count": 174,
   "id": "8675e7d1-33bd-4232-b4ec-e81a87598588",
   "metadata": {},
   "outputs": [],
   "source": [
    "(define (make-iterative-process args f) \n",
    "      (lambda (x) \n",
    "            (iterative-process\n",
    "                      x\n",
    "                      args\n",
    "                      f)))"
   ]
  },
  {
   "cell_type": "code",
   "execution_count": 175,
   "id": "5573d913-cba7-403e-b834-0de7c5f0bcc7",
   "metadata": {},
   "outputs": [
    {
     "data": {
      "text/plain": [
       "8"
      ]
     },
     "execution_count": 175,
     "metadata": {},
     "output_type": "execute_result"
    }
   ],
   "source": [
    "(fib 6)"
   ]
  },
  {
   "cell_type": "code",
   "execution_count": null,
   "id": "9d83e509-6e04-4549-8824-d176628377a7",
   "metadata": {},
   "outputs": [],
   "source": []
  },
  {
   "cell_type": "code",
   "execution_count": null,
   "id": "d13a9463-f4ba-40e5-8f3d-f97480f7558c",
   "metadata": {},
   "outputs": [],
   "source": []
  },
  {
   "cell_type": "markdown",
   "id": "cd365960-3945-4b59-b847-cef7ca92665a",
   "metadata": {},
   "source": [
    "## Problem Set 4"
   ]
  },
  {
   "cell_type": "markdown",
   "id": "836e2310-3dba-45d4-b6f4-23817ca6d251",
   "metadata": {},
   "source": [
    "Problem 1: Define procedure last that returns the last element of given non empty list.\n",
    "\n",
    "```\n",
    "(last (list 1 2 3 4))\n",
    "4\n",
    "```"
   ]
  },
  {
   "cell_type": "code",
   "execution_count": 176,
   "id": "c8a0ff3c-9d20-45ec-bd50-c02610e7b9ce",
   "metadata": {},
   "outputs": [],
   "source": [
    "(define (last lst) ;lst)\n",
    "      ;; (display (format \"~a \\n\" lst))\n",
    "      (cond ((null? lst) None) \n",
    "            ((null? (cdr lst)) (car lst))\n",
    "            (else (last (cdr lst)))))"
   ]
  },
  {
   "cell_type": "code",
   "execution_count": 183,
   "id": "0ab8feb6-0810-4ae9-ae3f-6a0bf9020ca6",
   "metadata": {},
   "outputs": [
    {
     "data": {
      "text/plain": [
       "4"
      ]
     },
     "execution_count": 183,
     "metadata": {},
     "output_type": "execute_result"
    }
   ],
   "source": [
    "(last (list 1 2 3 4))"
   ]
  },
  {
   "cell_type": "markdown",
   "id": "3fbb8099-83d3-4d00-ba60-1937bfac067b",
   "metadata": {},
   "source": [
    "**Problem 2: Exercise 2.18 from SICP**\n",
    "\n",
    "Define procedure reverse that takes a list as argument and returns a list with the same elements in reverse order.\n",
    "\n",
    "```\n",
    "(reverse (list 1 2 3 4))\n",
    "(4 3 2 1)\n",
    "\n",
    "(reverse (list (list 1 2) (list 3 4)))\n",
    "((3 4) (1 2))\n",
    "```"
   ]
  },
  {
   "cell_type": "code",
   "execution_count": 188,
   "id": "d2539ffe-993b-4385-a2f9-f6c3839b1c1b",
   "metadata": {},
   "outputs": [],
   "source": [
    "(define (reverse-lst lst)\n",
    "  (define (reverse-iter lst res) \n",
    "      (cond ((null? lst) res)\n",
    "            (else (reverse-iter (cdr lst) (cons (car lst) res)))))\n",
    "  (reverse-iter lst '()))"
   ]
  },
  {
   "cell_type": "code",
   "execution_count": 190,
   "id": "75024f46-25b3-475a-98ae-048ef24fdbfe",
   "metadata": {},
   "outputs": [
    {
     "data": {
      "text/plain": [
       "(4 3 2 1)"
      ]
     },
     "execution_count": 190,
     "metadata": {},
     "output_type": "execute_result"
    }
   ],
   "source": [
    "(reverse-lst (list 1 2 3 4))"
   ]
  },
  {
   "cell_type": "code",
   "execution_count": 191,
   "id": "799cd6c1-ab3e-4fb2-b03e-4f22cf1cad46",
   "metadata": {},
   "outputs": [
    {
     "data": {
      "text/plain": [
       "((3 4) (1 2))"
      ]
     },
     "execution_count": 191,
     "metadata": {},
     "output_type": "execute_result"
    }
   ],
   "source": [
    "(reverse-lst (list (list 1 2) (list 3 4)))"
   ]
  },
  {
   "cell_type": "markdown",
   "id": "d38fb33e-3acd-433b-bf5c-00bba3cba9d1",
   "metadata": {},
   "source": [
    "**Problem 3: The map procedure define in the Chapter 2.2 of SICP generates an recursive process, can you rewrite it as an iterative process?**\n",
    "\n",
    "Here is the implementation from the book.\n",
    "\n",
    "```\n",
    "(define (map proc items)\n",
    "  (if (null? items)\n",
    "      nil\n",
    "      (cons (proc (car items))\n",
    "            (map proc (cdr items)))))\n",
    "```"
   ]
  },
  {
   "cell_type": "code",
   "execution_count": 266,
   "id": "d0542f91-cc70-41aa-98bd-5e496d15d2c3",
   "metadata": {},
   "outputs": [],
   "source": [
    "(define (map-lst proc items) \n",
    "  (define (map-iter proc items res) \n",
    "        (cond ((null? items) res)\n",
    "              (else (map-iter proc (cdr items) (cons (proc (car items)) res)))))\n",
    "  (reverse-lst (map-iter proc items '())))  "
   ]
  },
  {
   "cell_type": "code",
   "execution_count": 209,
   "id": "d4c2a590-ffad-4706-a5f8-0a81d95199a2",
   "metadata": {},
   "outputs": [],
   "source": [
    "(define (square x) (* x x))"
   ]
  },
  {
   "cell_type": "code",
   "execution_count": 210,
   "id": "7180b82d-d4e1-4716-83b2-bcf80dee9a3a",
   "metadata": {},
   "outputs": [
    {
     "data": {
      "text/plain": [
       "(1 4 9 16 25)"
      ]
     },
     "execution_count": 210,
     "metadata": {},
     "output_type": "execute_result"
    }
   ],
   "source": [
    "(map-lst square '(1 2 3 4 5))"
   ]
  },
  {
   "cell_type": "markdown",
   "id": "2feae763-bb99-47c9-a4c1-6f845fa886c1",
   "metadata": {},
   "source": [
    "**Problem 4: Exercise 2.28 from SICP**\n",
    "\n",
    "Define a procedure flatten that takes a tree as argument and returns a list whose values are all the leaves of the tree arranged in left-to-right order.\n",
    "\n",
    "```\n",
    "(define x (list (list 1 2) (list 3 4)))\n",
    "\n",
    "(flatten x)\n",
    "(1 2 3 4)\n",
    "```\n"
   ]
  },
  {
   "cell_type": "code",
   "execution_count": 245,
   "id": "ebcc2c5c-ab9b-47c5-a6f5-e15161bda845",
   "metadata": {},
   "outputs": [],
   "source": [
    "(define (flatten tree) \n",
    "  (cond ((null? tree) '())\n",
    "        ((not (pair? tree)) (list tree))\n",
    "        (else (append (flatten (car tree)) (flatten (cdr tree))))))"
   ]
  },
  {
   "cell_type": "code",
   "execution_count": 250,
   "id": "5f148723-8cac-44ab-9be0-c81751660803",
   "metadata": {},
   "outputs": [
    {
     "data": {
      "text/plain": [
       "(1 2 3 4)"
      ]
     },
     "execution_count": 250,
     "metadata": {},
     "output_type": "execute_result"
    }
   ],
   "source": [
    "(define x (list (list 1 2) (list 3 4)))\n",
    "\n",
    "(flatten x)"
   ]
  },
  {
   "cell_type": "markdown",
   "id": "2f0df90d-3ce3-4d29-a45c-e04192b665ee",
   "metadata": {},
   "source": [
    "**Problem 5: Exercise 2.31 from SICP**\n",
    "\n",
    "Define a procedure tree-map that takes a proceduce and a tree as arguments and applies the function to every leaf of the tree and returns a new tree.\n",
    "```\n",
    "(define (square-tree tree)\n",
    "        (tree-map square tree))\n",
    "\n",
    "(define x (list (list 1 2) (list 3 4)))\n",
    "\n",
    "x\n",
    "((1 2) (3 4))\n",
    "\n",
    "(square-tree x)\n",
    "((1 4) (9 16))\n",
    "```"
   ]
  },
  {
   "cell_type": "code",
   "execution_count": 251,
   "id": "28e71798-efad-4ebb-a90d-5dcdbc88d8fa",
   "metadata": {},
   "outputs": [],
   "source": [
    "(define (square-tree tree)\n",
    "        (tree-map square tree))"
   ]
  },
  {
   "cell_type": "code",
   "execution_count": 258,
   "id": "1770809c-8a75-42f5-a40c-e20f4e20f0b8",
   "metadata": {},
   "outputs": [],
   "source": [
    "(define (tree-map f tree) \n",
    "      (cond ((null? tree) '())\n",
    "        ((not (pair? tree)) (f tree))\n",
    "        (else (cons (tree-map f (car tree)) (tree-map f (cdr tree))))))"
   ]
  },
  {
   "cell_type": "code",
   "execution_count": 259,
   "id": "1cce0e6d-df03-4400-b059-94c40fe131c5",
   "metadata": {},
   "outputs": [],
   "source": [
    "(define x (list (list 1 2) (list 3 4)))"
   ]
  },
  {
   "cell_type": "code",
   "execution_count": 260,
   "id": "27f730b5-537c-4be3-a233-f6dbdaeeb0ea",
   "metadata": {},
   "outputs": [
    {
     "data": {
      "text/plain": [
       "((1 2) (3 4))"
      ]
     },
     "execution_count": 260,
     "metadata": {},
     "output_type": "execute_result"
    }
   ],
   "source": [
    "x"
   ]
  },
  {
   "cell_type": "code",
   "execution_count": 261,
   "id": "cf6736e2-882b-4162-8ffb-e69f16173182",
   "metadata": {},
   "outputs": [
    {
     "data": {
      "text/plain": [
       "((1 4) (9 16))"
      ]
     },
     "execution_count": 261,
     "metadata": {},
     "output_type": "execute_result"
    }
   ],
   "source": [
    "(square-tree x)"
   ]
  },
  {
   "cell_type": "markdown",
   "id": "eb38a192-9baf-4c3b-8a16-e8346837d26f",
   "metadata": {},
   "source": [
    "**Problem 6: Exercise 2.19 from SICP**\n",
    "\n",
    "Rewrite the count-change procedure from SICP to pass the list of coins as an argument.\n",
    "```\n",
    "(cc 100 (list 50 25 10 5 1))\n",
    "292\n",
    "\n",
    "Make approprite changes to the procedure to accommodate this. For your reference, the following is the original implementation of count-change example.\n",
    "\n",
    "(define (count-change amount)\n",
    "  (cc amount 5))\n",
    "\n",
    "(define (cc amount kinds-of-coins)\n",
    "  (cond ((= amount 0) 1)\n",
    "        ((or (< amount 0)\n",
    "             (= kinds-of-coins 0))\n",
    "         0)\n",
    "        (else\n",
    "         (+ (cc amount (- kinds-of-coins 1))\n",
    "            (cc (- amount (first-denomination\n",
    "                           kinds-of-coins))\n",
    "                kinds-of-coins)))))\n",
    "\n",
    "(define (first-denomination kinds-of-coins)\n",
    "  (cond ((= kinds-of-coins 1) 1)\n",
    "        ((= kinds-of-coins 2) 5)\n",
    "        ((= kinds-of-coins 3) 10)\n",
    "        ((= kinds-of-coins 4) 25)\n",
    "        ((= kinds-of-coins 5) 50)))\n",
    "```"
   ]
  },
  {
   "cell_type": "code",
   "execution_count": 262,
   "id": "56f4952d-26e3-45e1-b808-a112e83bf7c8",
   "metadata": {},
   "outputs": [],
   "source": [
    "(define (nth l n) \n",
    "     (cond ((= n 0) (car l))\n",
    "           ((< n 0) None)\n",
    "           ((null? l) None)\n",
    "           (else (nth (cdr l) (- n 1)))))"
   ]
  },
  {
   "cell_type": "code",
   "execution_count": 263,
   "id": "aa22839d-05f0-4ca1-81db-a1928eee9f72",
   "metadata": {},
   "outputs": [],
   "source": [
    "(define (first-denomination kinds-of-coins coins-list)\n",
    "  (nth coins-list (- kinds-of-coins 1)))"
   ]
  },
  {
   "cell_type": "code",
   "execution_count": null,
   "id": "ed86b2d0-132d-4ed6-9627-b87f3dda1d27",
   "metadata": {},
   "outputs": [],
   "source": [
    "(define (even-fibs n)\n",
    "  (define (next k)\n",
    "    (if (> k n)\n",
    "        nil\n",
    "        (let ((f (fib k)))\n",
    "          (if (even? f)\n",
    "              (cons f (next (+ k 1)))\n",
    "              (next (+ k 1))))))\n",
    "  (next 0))"
   ]
  },
  {
   "cell_type": "code",
   "execution_count": 311,
   "id": "63acee27-e318-4d4b-8a1a-6915a81fb3e7",
   "metadata": {},
   "outputs": [],
   "source": [
    "(define (cc amount coins-list)\n",
    "  ;; (display (format \"~a ~a\\n\" amount coins-list))\n",
    "  (let ((kinds-of-coins (length coins-list)))\n",
    "  (cond ((= amount 0) 1)\n",
    "        ((or (< amount 0)\n",
    "             (= kinds-of-coins 0))\n",
    "         0)\n",
    "        (else\n",
    "         (+ (cc amount (cdr coins-list))\n",
    "            (cc (- amount (car coins-list))\n",
    "                coins-list))))))"
   ]
  },
  {
   "cell_type": "code",
   "execution_count": 312,
   "id": "923d2e0a-37b6-47ae-b5b4-9b1af0a63ded",
   "metadata": {},
   "outputs": [],
   "source": [
    "(define (cc amount coins-list)\n",
    "  ;; (display (format \"~a ~a\\n\" amount coins-list))\n",
    "  (define (cc-len amount coins-list len) \n",
    "    (cond ((= amount 0) 1)\n",
    "        ((or (< amount 0)\n",
    "             (= len 0))\n",
    "         0)\n",
    "        (else\n",
    "         (+ (cc-len amount (cdr coins-list) (- len 1))\n",
    "            (cc-len (- amount (car coins-list))\n",
    "                coins-list \n",
    "                len)))))\n",
    "  (cc-len amount coins-list (length coins-list)))"
   ]
  },
  {
   "cell_type": "code",
   "execution_count": 315,
   "id": "0f844392-efd4-454b-bd11-9d5ab3a37292",
   "metadata": {},
   "outputs": [
    {
     "data": {
      "text/plain": [
       "292"
      ]
     },
     "execution_count": 315,
     "metadata": {},
     "output_type": "execute_result"
    }
   ],
   "source": [
    "(cc 100 (list 50 25 10 5 1))   ; very slow"
   ]
  },
  {
   "cell_type": "markdown",
   "id": "20bcacc1-5a85-4969-a736-e19db349a103",
   "metadata": {},
   "source": [
    "**Problem 7: Exercise 2.27 from SICP**\n",
    "\n",
    "Modify your reverse procedure of Problem 2 / Exercise 2.18 to produce a deep-reverse procedure that takes a list as argument and returns as its value the list with its elements reversed and with all sublists deep-reversed as well. For example,\n",
    "```\n",
    "(define x\n",
    "  (list (list 1 2) (list 3 4)))\n",
    "\n",
    "x\n",
    "((1 2) (3 4))\n",
    "\n",
    "(reverse x)\n",
    "((3 4) (1 2))\n",
    "\n",
    "(deep-reverse x)\n",
    "((4 3) (2 1))\n",
    "```\n"
   ]
  },
  {
   "cell_type": "code",
   "execution_count": 412,
   "id": "7504bd55-51c7-4e5c-b75f-1e7c16178f56",
   "metadata": {},
   "outputs": [],
   "source": [
    "(define (deep-reverse tree) \n",
    "  (display (format \"~a\\n\" tree))\n",
    "  (cond ((null? tree) '())\n",
    "        ((not (pair? tree)) tree)\n",
    "        ((null? (cdr tree)) (list (deep-reverse (car tree))))\n",
    "        (else (append (deep-reverse (cdr tree)) (list (deep-reverse (car tree)))))))"
   ]
  },
  {
   "cell_type": "code",
   "execution_count": 416,
   "id": "638e7cb9-ef22-44ba-a64d-59459500de5e",
   "metadata": {},
   "outputs": [],
   "source": [
    "(define x\n",
    "  (list (list 1 2) (list 3 4)))"
   ]
  },
  {
   "cell_type": "code",
   "execution_count": 417,
   "id": "313b2157-2a47-4b9c-8d29-c0911ff568ab",
   "metadata": {},
   "outputs": [
    {
     "name": "stdout",
     "output_type": "stream",
     "text": [
      "((1 2) (3 4))\n",
      "((3 4))\n",
      "(3 4)\n",
      "(4)\n",
      "4\n",
      "3\n",
      "(1 2)\n",
      "(2)\n",
      "2\n",
      "1\n"
     ]
    },
    {
     "data": {
      "text/plain": [
       "((4 3) (2 1))"
      ]
     },
     "execution_count": 417,
     "metadata": {},
     "output_type": "execute_result"
    }
   ],
   "source": [
    "(deep-reverse x)"
   ]
  },
  {
   "cell_type": "code",
   "execution_count": 418,
   "id": "96a7ad7d-9724-4d00-8422-9ed9ed7fbe58",
   "metadata": {},
   "outputs": [
    {
     "name": "stdout",
     "output_type": "stream",
     "text": [
      "(1 2)\n",
      "(2)\n",
      "2\n",
      "1\n"
     ]
    },
    {
     "data": {
      "text/plain": [
       "(2 1)"
      ]
     },
     "execution_count": 418,
     "metadata": {},
     "output_type": "execute_result"
    }
   ],
   "source": [
    "(deep-reverse '(1 2))"
   ]
  },
  {
   "cell_type": "markdown",
   "id": "be64d5a5-27c4-47ed-bba2-738ef58b5809",
   "metadata": {},
   "source": [
    "**Problem 8: Exercise 2.33 from SICP**\n",
    "\n",
    "Fill in the missing expressions to complete the following definitions of some basic list-manipulation operations as accumulations:\n",
    "```\n",
    "(define (map p sequence)\n",
    "  (accumulate (lambda (x y) ⟨??⟩)\n",
    "              nil sequence))\n",
    "\n",
    "(define (append seq1 seq2)\n",
    "  (accumulate cons ⟨??⟩ ⟨??⟩))\n",
    "\n",
    "(define (length sequence)\n",
    "  (accumulate ⟨??⟩ 0 sequence))\n",
    "```\n",
    "For your reference, the accumulate procedure is defined as:\n",
    "```\n",
    "(define (accumulate op initial sequence)\n",
    "  (if (null? sequence)\n",
    "      initial\n",
    "      (op (car sequence)\n",
    "          (accumulate op\n",
    "                      initial\n",
    "                      (cdr sequence)))))\n",
    "```"
   ]
  },
  {
   "cell_type": "code",
   "execution_count": 419,
   "id": "6693344b-c483-47ac-88ed-3f337cc2912f",
   "metadata": {},
   "outputs": [],
   "source": [
    "(define (accumulate op initial sequence)\n",
    "  (if (null? sequence)\n",
    "      initial\n",
    "      (op (car sequence)\n",
    "          (accumulate op\n",
    "                      initial\n",
    "                      (cdr sequence)))))"
   ]
  },
  {
   "cell_type": "code",
   "execution_count": 444,
   "id": "d13fd703-7681-41d5-86f3-dec83f43a95f",
   "metadata": {},
   "outputs": [],
   "source": [
    "(define nil '())"
   ]
  },
  {
   "cell_type": "code",
   "execution_count": 445,
   "id": "72827582-478c-49bf-95d1-8c5f3167c9da",
   "metadata": {},
   "outputs": [],
   "source": [
    "(define (map p sequence)\n",
    "  (accumulate (lambda (x y) (cons (p x) y))\n",
    "              nil sequence))"
   ]
  },
  {
   "cell_type": "code",
   "execution_count": 451,
   "id": "1200cd3c-aa31-4e8a-ad72-050417e48f8d",
   "metadata": {},
   "outputs": [],
   "source": [
    "(define (append seq1 seq2)\n",
    "  (accumulate cons seq2 seq1))"
   ]
  },
  {
   "cell_type": "code",
   "execution_count": 452,
   "id": "a936a060-10ec-4624-8a0a-079a9d0553e5",
   "metadata": {},
   "outputs": [],
   "source": [
    "(define (length sequence)\n",
    "  (accumulate (lambda (x y) (+ y 1))\n",
    "               0 sequence))"
   ]
  },
  {
   "cell_type": "code",
   "execution_count": 453,
   "id": "1f9751e8-22b4-4a20-b36d-9fef9f9c454e",
   "metadata": {},
   "outputs": [],
   "source": [
    "(define (square x) (* x x))"
   ]
  },
  {
   "cell_type": "code",
   "execution_count": 454,
   "id": "e74a7f05-5836-4500-9dbf-193fa78d0465",
   "metadata": {},
   "outputs": [
    {
     "data": {
      "text/plain": [
       "(1 4 9)"
      ]
     },
     "execution_count": 454,
     "metadata": {},
     "output_type": "execute_result"
    }
   ],
   "source": [
    "(map square '(1 2 3))"
   ]
  },
  {
   "cell_type": "code",
   "execution_count": 456,
   "id": "a445d62b-fd32-43bb-8a94-18ad48dc0765",
   "metadata": {},
   "outputs": [
    {
     "data": {
      "text/plain": [
       "(1 2 3 4 5)"
      ]
     },
     "execution_count": 456,
     "metadata": {},
     "output_type": "execute_result"
    }
   ],
   "source": [
    "(append '(1 2) '(3 4 5))"
   ]
  },
  {
   "cell_type": "code",
   "execution_count": 457,
   "id": "10ff103c-b1a6-444e-b679-188015c7d810",
   "metadata": {},
   "outputs": [
    {
     "data": {
      "text/plain": [
       "3"
      ]
     },
     "execution_count": 457,
     "metadata": {},
     "output_type": "execute_result"
    }
   ],
   "source": [
    "(length '(1 2 3))"
   ]
  },
  {
   "cell_type": "code",
   "execution_count": null,
   "id": "d90609be-cfe1-456f-ab78-b2e78cc99e24",
   "metadata": {},
   "outputs": [],
   "source": []
  },
  {
   "cell_type": "code",
   "execution_count": null,
   "id": "ff2350c4-b137-44d6-880d-511cfc479438",
   "metadata": {},
   "outputs": [],
   "source": []
  },
  {
   "cell_type": "code",
   "execution_count": null,
   "id": "e46bb8e5-9e4f-4c33-9eda-56b558311cab",
   "metadata": {},
   "outputs": [],
   "source": []
  },
  {
   "cell_type": "code",
   "execution_count": null,
   "id": "e07341d2-f5a9-4468-bd07-d1c4ef18d26d",
   "metadata": {},
   "outputs": [],
   "source": []
  },
  {
   "cell_type": "code",
   "execution_count": null,
   "id": "6380557c-d2ee-40c0-9dbd-40e5b6895bd9",
   "metadata": {},
   "outputs": [],
   "source": []
  }
 ],
 "metadata": {
  "kernelspec": {
   "display_name": "Calysto Scheme 3",
   "language": "scheme",
   "name": "calysto_scheme"
  },
  "language_info": {
   "codemirror_mode": {
    "name": "scheme"
   },
   "mimetype": "text/x-scheme",
   "name": "scheme",
   "pygments_lexer": "scheme"
  }
 },
 "nbformat": 4,
 "nbformat_minor": 5
}
