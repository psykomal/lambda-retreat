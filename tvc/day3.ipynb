{
 "cells": [
  {
   "cell_type": "markdown",
   "id": "ba2d6072-f306-4f89-8e7d-e70597a84c34",
   "metadata": {},
   "source": [
    "## Mutable Data\n"
   ]
  },
  {
   "cell_type": "code",
   "execution_count": 1,
   "id": "f6c7a851-e800-4eeb-8af4-92f426b5df8f",
   "metadata": {},
   "outputs": [],
   "source": [
    "(import \"builtins\")\n",
    "(define python builtins)\n",
    "\n",
    "(import \"requests\")\n",
    "(import \"IPython.display\")\n",
    "\n",
    "\n",
    "(define url \"http://192.168.225.37:8000/box\")\n",
    "\n",
    "(define (box code)\n",
    "  (define r (requests.post url (python.str code)))\n",
    "  (IPython.display.Image r.content None None \"png\"))\n",
    "\n"
   ]
  },
  {
   "cell_type": "code",
   "execution_count": 10,
   "id": "aed38a29-64ee-4c0d-a133-1d1a85e83f9c",
   "metadata": {},
   "outputs": [
    {
     "data": {
      "image/png": "[encoded data removed]",
      "text/plain": [
       "<IPython.core.display.Image object>"
      ]
     },
     "execution_count": 10,
     "metadata": {},
     "output_type": "execute_result"
    }
   ],
   "source": [
    "(box '(list 1 2 3))"
   ]
  },
  {
   "cell_type": "code",
   "execution_count": 15,
   "id": "358e33a5-6afb-45e6-83dd-7ad4f2070960",
   "metadata": {},
   "outputs": [],
   "source": [
    "\n",
    "\n",
    "(define x '((a b) c d))\n",
    "(define y '(e f))\n",
    "(define z (cons y (cdr x)))\n",
    "\n"
   ]
  },
  {
   "cell_type": "code",
   "execution_count": 16,
   "id": "0ab0b887-1831-45ec-9da9-372d0c04e9ec",
   "metadata": {},
   "outputs": [
    {
     "data": {
      "image/png": "[encoded data removed]",
      "text/plain": [
       "<IPython.core.display.Image object>"
      ]
     },
     "execution_count": 16,
     "metadata": {},
     "output_type": "execute_result"
    }
   ],
   "source": [
    "(box '(list (list 'a 'b) 'c 'd))"
   ]
  },
  {
   "cell_type": "code",
   "execution_count": null,
   "id": "94f87edd-5a33-4a33-9d46-d0a3254f1a85",
   "metadata": {},
   "outputs": [],
   "source": []
  },
  {
   "cell_type": "markdown",
   "id": "f26bdb30-4614-43f5-afbc-2cf68abf9cfb",
   "metadata": {},
   "source": [
    "\n",
    "\n",
    "Problem: We have implemented a utility called append to append two lists together. Implement a mutable version of it, append! that modfies the first list. It is an error to call append! with empty list as first argument.\n",
    "```\n",
    "> (define x (list 1 2 3))\n",
    "> (define y (list 4 5))\n",
    "> (append! x y)\n",
    "done\n",
    "> x\n",
    "(1 2 3 4 5)\n",
    "```\n"
   ]
  },
  {
   "cell_type": "code",
   "execution_count": 38,
   "id": "ee6cf8a4-f1a1-4b3a-99c3-99cd13ccc1c2",
   "metadata": {},
   "outputs": [],
   "source": [
    "(define (append! l1 l2) \n",
    "      (cond ((eq? (cdr l1) ()) (set-cdr! l1 l2))\n",
    "            (else (append! (cdr l1) l2))))"
   ]
  },
  {
   "cell_type": "code",
   "execution_count": 44,
   "id": "7de34a53-7656-4aea-aec3-ead8d8676d13",
   "metadata": {},
   "outputs": [],
   "source": [
    "(define x '(1))\n",
    "(define y '(5 6 7 8 ))"
   ]
  },
  {
   "cell_type": "code",
   "execution_count": 45,
   "id": "a4396d4c-bca3-410c-9de2-6540be5dcd2c",
   "metadata": {},
   "outputs": [],
   "source": [
    "(append! x y)"
   ]
  },
  {
   "cell_type": "code",
   "execution_count": 47,
   "id": "344cc444-0f20-40ee-a179-5b02feb20d70",
   "metadata": {},
   "outputs": [
    {
     "data": {
      "text/plain": [
       "(1 5 6 7 8)"
      ]
     },
     "execution_count": 47,
     "metadata": {},
     "output_type": "execute_result"
    }
   ],
   "source": [
    "x"
   ]
  },
  {
   "cell_type": "markdown",
   "id": "2a1b02ec-6d6c-4e44-8b86-3e2199daef4f",
   "metadata": {},
   "source": [
    "\n",
    "\n",
    "Problem: Consider the following snippets of code.\n",
    "```\n",
    "(define x (list 'a 'b))\n",
    "(define z1 (cons x x))\n",
    "(define z2 (cons (list 'a 'b) (list 'a 'b)))\n",
    "```\n",
    "Are z1 and z2 the same? Explain it using box-and-pointer diagram.\n",
    "\n",
    "If you think they are not the same, can you suggest an operation that will produce different result on z1 and z2.\n"
   ]
  },
  {
   "cell_type": "code",
   "execution_count": 76,
   "id": "398f626e-3d8a-4e46-aa88-2d91e61192ae",
   "metadata": {},
   "outputs": [],
   "source": [
    "(define x (list 'a 'b))\n",
    "(define z1 (cons x x))\n",
    "(define z2 (cons (list 'a 'b) (list 'a 'b)))"
   ]
  },
  {
   "cell_type": "code",
   "execution_count": 77,
   "id": "e86ea2b5-972d-4b37-ae56-5d4422941db8",
   "metadata": {},
   "outputs": [
    {
     "data": {
      "image/png": "[encoded data removed]",
      "text/plain": [
       "<IPython.core.display.Image object>"
      ]
     },
     "execution_count": 77,
     "metadata": {},
     "output_type": "execute_result"
    }
   ],
   "source": [
    "(box '(cons (list 'a 'b) (list 'a 'b)))"
   ]
  },
  {
   "cell_type": "code",
   "execution_count": 78,
   "id": "014448d8-d591-4449-9c10-452af26011e9",
   "metadata": {},
   "outputs": [
    {
     "data": {
      "text/plain": [
       "((a b) a b)"
      ]
     },
     "execution_count": 78,
     "metadata": {},
     "output_type": "execute_result"
    }
   ],
   "source": [
    "z1\n"
   ]
  },
  {
   "cell_type": "code",
   "execution_count": 79,
   "id": "6c5aa14a-1da9-4d1b-a78e-22155d1923bb",
   "metadata": {},
   "outputs": [
    {
     "data": {
      "text/plain": [
       "((a b) a b)"
      ]
     },
     "execution_count": 79,
     "metadata": {},
     "output_type": "execute_result"
    }
   ],
   "source": [
    "z2"
   ]
  },
  {
   "cell_type": "code",
   "execution_count": 80,
   "id": "e195a692-726f-4382-b485-f4a7fe8fb3c6",
   "metadata": {},
   "outputs": [],
   "source": [
    "(define (f z) \n",
    "  (define x '(1))\n",
    "  (append! z x)\n",
    "  (cddar z))"
   ]
  },
  {
   "cell_type": "code",
   "execution_count": 81,
   "id": "a2358522-8b0e-40d1-803b-1bc1acc9bcf1",
   "metadata": {},
   "outputs": [
    {
     "data": {
      "text/plain": [
       "(1)"
      ]
     },
     "execution_count": 81,
     "metadata": {},
     "output_type": "execute_result"
    }
   ],
   "source": [
    "(f z1)"
   ]
  },
  {
   "cell_type": "code",
   "execution_count": 82,
   "id": "9fef396c-23c8-4e0a-a3a8-cf51e0aa832e",
   "metadata": {},
   "outputs": [
    {
     "data": {
      "text/plain": [
       "()"
      ]
     },
     "execution_count": 82,
     "metadata": {},
     "output_type": "execute_result"
    }
   ],
   "source": [
    "(f z2)"
   ]
  },
  {
   "cell_type": "markdown",
   "id": "e6681743-eee7-44c0-b4e9-292e97a1b26a",
   "metadata": {},
   "source": [
    "## Queues"
   ]
  },
  {
   "cell_type": "markdown",
   "id": "eac68da6-f673-409e-95bf-d9a7eedbca05",
   "metadata": {},
   "source": [
    "```\n",
    "(define q (make-queue))\n",
    "(insert-queue! q 'a)  ; a\n",
    "(insert-queue! q 'b)  ; a b\n",
    "(delete-queue! q)     ; a -- b\n",
    "(insert-queue! q 'c)  ; b c\n",
    "(insert-queue! q 'd)  ; b c d\n",
    "(delete-queue! q)     ; b -- c d\n",
    "\n",
    "(empty-queue? q) ; tests if q is empty\n",
    "```"
   ]
  },
  {
   "cell_type": "code",
   "execution_count": 84,
   "id": "1d6e2f54-8b61-4e29-bb0c-d94651a58235",
   "metadata": {},
   "outputs": [],
   "source": [
    "(define (make-queue) \n",
    "  (cons '() '()))"
   ]
  },
  {
   "cell_type": "code",
   "execution_count": 274,
   "id": "a6ed5428-c4cd-4670-93ad-a4dde9c34089",
   "metadata": {},
   "outputs": [],
   "source": [
    "(define (set-front-ptr! q inx) \n",
    "      (set-car! q inx))\n",
    "\n",
    "(define (set-rear-ptr! q inx) \n",
    "      (set-cdr! q inx))\n",
    "\n",
    "(define (set-rear-elem! q inx) \n",
    "      (set-cdr! (cdr q) inx))\n",
    "\n",
    "(define (set-front-elem! q inx) \n",
    "      (set-car! q (cdar q)))\n",
    "\n",
    "(define (front-elem q) \n",
    "      (caar q))\n",
    "\n",
    "(define (second-elem q) \n",
    "      (cdar q))\n",
    "\n",
    "(define (show q) (car q))"
   ]
  },
  {
   "cell_type": "code",
   "execution_count": 248,
   "id": "9bd5534c-1b77-4999-9033-fd95cfbf927f",
   "metadata": {},
   "outputs": [],
   "source": [
    "(define (insert-queue! q x) \n",
    "  (let ((inx (list x)))\n",
    "       (cond\n",
    "            ((empty-queue? q) \n",
    "                 (set-front-ptr! q inx)\n",
    "                 (set-rear-ptr! q inx))\n",
    "            (else \n",
    "                 (set-rear-elem! q inx)\n",
    "                 (set-rear-ptr! q inx)))))"
   ]
  },
  {
   "cell_type": "code",
   "execution_count": 249,
   "id": "5db3641d-3bed-452c-a157-68331731e8b8",
   "metadata": {},
   "outputs": [],
   "source": [
    "(define (delete-queue! q) \n",
    "  (cond\n",
    "       ((empty-queue? q) None)\n",
    "       ((eq? (second-elem q) '()) \n",
    "            (set! x (front-elem q))\n",
    "            (set-front-ptr! q '())\n",
    "            (set-rear-ptr! q '())\n",
    "            x)\n",
    "       (else\n",
    "            (set! x (front-elem q))\n",
    "            (set-front-elem! q (cdar q))\n",
    "            x)))"
   ]
  },
  {
   "cell_type": "code",
   "execution_count": 262,
   "id": "847ac466-877b-48b7-810e-a2fe8c14391a",
   "metadata": {},
   "outputs": [],
   "source": [
    "(define (empty-queue? q)\n",
    "      (eq? (car q) '()))"
   ]
  },
  {
   "cell_type": "code",
   "execution_count": 263,
   "id": "16c17d40-1e0e-490b-8bd6-7b1a18550577",
   "metadata": {},
   "outputs": [
    {
     "data": {
      "text/plain": [
       "(())"
      ]
     },
     "execution_count": 263,
     "metadata": {},
     "output_type": "execute_result"
    }
   ],
   "source": [
    "(define q1 (make-queue))\n",
    "q1"
   ]
  },
  {
   "cell_type": "code",
   "execution_count": 264,
   "id": "eba6031c-0fb2-415b-845e-3c68e779081e",
   "metadata": {},
   "outputs": [
    {
     "data": {
      "text/plain": [
       "#t"
      ]
     },
     "execution_count": 264,
     "metadata": {},
     "output_type": "execute_result"
    }
   ],
   "source": [
    "(empty-queue? q1)"
   ]
  },
  {
   "cell_type": "code",
   "execution_count": 265,
   "id": "ed53f3d8-5079-4abb-bdca-f2c4440ba042",
   "metadata": {},
   "outputs": [],
   "source": [
    "(insert-queue! q1 1)"
   ]
  },
  {
   "cell_type": "code",
   "execution_count": 266,
   "id": "87338b11-1ba1-46d3-a544-4a78a0d39737",
   "metadata": {},
   "outputs": [
    {
     "data": {
      "text/plain": [
       "(1)"
      ]
     },
     "execution_count": 266,
     "metadata": {},
     "output_type": "execute_result"
    }
   ],
   "source": [
    "(show! q1)"
   ]
  },
  {
   "cell_type": "code",
   "execution_count": 267,
   "id": "ae59b4d0-54a7-4fb8-80ca-7d2b29744e71",
   "metadata": {},
   "outputs": [
    {
     "data": {
      "text/plain": [
       "(1 2)"
      ]
     },
     "execution_count": 267,
     "metadata": {},
     "output_type": "execute_result"
    }
   ],
   "source": [
    "(insert-queue! q1 2)\n",
    "(show! q1)"
   ]
  },
  {
   "cell_type": "code",
   "execution_count": 268,
   "id": "4da7cd62-4879-4b28-b35f-8dc11340f554",
   "metadata": {},
   "outputs": [
    {
     "data": {
      "text/plain": [
       "1"
      ]
     },
     "execution_count": 268,
     "metadata": {},
     "output_type": "execute_result"
    }
   ],
   "source": [
    "(delete-queue! q1)"
   ]
  },
  {
   "cell_type": "code",
   "execution_count": 269,
   "id": "c178ccef-da33-4852-ba60-a6dfc40baf33",
   "metadata": {},
   "outputs": [
    {
     "data": {
      "text/plain": [
       "(2)"
      ]
     },
     "execution_count": 269,
     "metadata": {},
     "output_type": "execute_result"
    }
   ],
   "source": [
    "(show! q1)"
   ]
  },
  {
   "cell_type": "code",
   "execution_count": 270,
   "id": "472c1be2-a610-41bb-b2c7-abd6eee6127a",
   "metadata": {},
   "outputs": [
    {
     "data": {
      "text/plain": [
       "2"
      ]
     },
     "execution_count": 270,
     "metadata": {},
     "output_type": "execute_result"
    }
   ],
   "source": [
    "(delete-queue! q1)"
   ]
  },
  {
   "cell_type": "code",
   "execution_count": 271,
   "id": "9ae4240e-f82c-4f84-8632-7f406d689460",
   "metadata": {},
   "outputs": [
    {
     "data": {
      "text/plain": [
       "()"
      ]
     },
     "execution_count": 271,
     "metadata": {},
     "output_type": "execute_result"
    }
   ],
   "source": [
    "(show! q1)"
   ]
  },
  {
   "cell_type": "code",
   "execution_count": 272,
   "id": "1efebc99-6433-499c-9e94-d9e928c9bccf",
   "metadata": {},
   "outputs": [],
   "source": [
    "(delete-queue! q1)"
   ]
  },
  {
   "cell_type": "code",
   "execution_count": 273,
   "id": "f5bef92c-23b3-4c70-a559-24741937bc0f",
   "metadata": {},
   "outputs": [
    {
     "data": {
      "text/plain": [
       "()"
      ]
     },
     "execution_count": 273,
     "metadata": {},
     "output_type": "execute_result"
    }
   ],
   "source": [
    "(show! q1)"
   ]
  },
  {
   "cell_type": "markdown",
   "id": "946d6202-1434-498b-9371-258b932ecf15",
   "metadata": {},
   "source": [
    "\n",
    "### Table\n",
    "```\n",
    "(make-table)\n",
    "(lookup key table)\n",
    "(insert! key value table)\n",
    "```\n"
   ]
  },
  {
   "cell_type": "code",
   "execution_count": 300,
   "id": "a9665439-0176-49c3-8b88-ab610c54045d",
   "metadata": {},
   "outputs": [],
   "source": [
    "(define (make-table)\n",
    "      (cons 'TABLE '()))"
   ]
  },
  {
   "cell_type": "code",
   "execution_count": 301,
   "id": "3ea8119f-4593-4fb5-b01b-09e569b57243",
   "metadata": {},
   "outputs": [],
   "source": [
    "(define T (make-table))"
   ]
  },
  {
   "cell_type": "code",
   "execution_count": 302,
   "id": "fe654f1d-d58b-4ae7-943e-cc619c712c5a",
   "metadata": {},
   "outputs": [
    {
     "data": {
      "text/plain": [
       "(TABLE)"
      ]
     },
     "execution_count": 302,
     "metadata": {},
     "output_type": "execute_result"
    }
   ],
   "source": [
    "T"
   ]
  },
  {
   "cell_type": "code",
   "execution_count": 304,
   "id": "b142fc94-7e33-4ac4-9c51-e79cac408e77",
   "metadata": {},
   "outputs": [],
   "source": [
    "(define (empty-table? table)\n",
    "      (eq? (cdr table) '()))"
   ]
  },
  {
   "cell_type": "code",
   "execution_count": 305,
   "id": "ac522490-4d60-4a47-8c6f-a55a755ef904",
   "metadata": {},
   "outputs": [
    {
     "data": {
      "text/plain": [
       "#t"
      ]
     },
     "execution_count": 305,
     "metadata": {},
     "output_type": "execute_result"
    }
   ],
   "source": [
    "(empty-table? T)"
   ]
  },
  {
   "cell_type": "code",
   "execution_count": 299,
   "id": "1572e217-dec9-4b60-979f-7f9944c91949",
   "metadata": {},
   "outputs": [],
   "source": [
    "(define (make-key-value key value)\n",
    "      (cons key value))\n",
    "\n",
    "(define (make-table-elem key value)\n",
    "      (cons (make-key-value key value) '()))"
   ]
  },
  {
   "cell_type": "code",
   "execution_count": null,
   "id": "f3259ed3-8a58-472b-80fd-18ce598215eb",
   "metadata": {},
   "outputs": [],
   "source": [
    "(define (insert! key value table) \n",
    "      (let ((elem (make-table-elem key value)))\n",
    "      (cond ((empty-table? table) \n",
    "                 (set! ))\n",
    "            ())))"
   ]
  },
  {
   "cell_type": "code",
   "execution_count": 285,
   "id": "8c9a6ee1-3606-4d8f-8139-624b61a4802c",
   "metadata": {},
   "outputs": [],
   "source": [
    "(insert! 'a 1 T)"
   ]
  },
  {
   "cell_type": "code",
   "execution_count": 287,
   "id": "8de30d8e-cf18-43a5-b83c-1a6a64063dee",
   "metadata": {},
   "outputs": [
    {
     "data": {
      "text/plain": [
       "((a . 1))"
      ]
     },
     "execution_count": 287,
     "metadata": {},
     "output_type": "execute_result"
    }
   ],
   "source": [
    "(show T)"
   ]
  },
  {
   "cell_type": "code",
   "execution_count": 288,
   "id": "d3afe090-c26d-41e0-acbf-ade98adf1faa",
   "metadata": {},
   "outputs": [
    {
     "data": {
      "text/plain": [
       "((a . 1) (b . 2))"
      ]
     },
     "execution_count": 288,
     "metadata": {},
     "output_type": "execute_result"
    }
   ],
   "source": [
    "(insert! 'b 2 T)\n",
    "(show T)"
   ]
  },
  {
   "cell_type": "code",
   "execution_count": 419,
   "id": "1a7397f2-b0be-4870-9396-22b760a47163",
   "metadata": {},
   "outputs": [],
   "source": [
    ";; the table implementation\n",
    "(define (make-table)\n",
    "  (cons '*table* '()))\n",
    "\n",
    "(define (table-records table) \n",
    "  (cdr table))\n",
    "\n",
    "(define set-table-records! set-cdr!)\n",
    "\n",
    "(define (assoc key records)\n",
    "  (cond ((null? records) #f)\n",
    "        ((eq? key (caar records))\n",
    "         (car records))\n",
    "        (else (assoc key (cdr records)))))\n",
    "\n",
    "(define (insert! key value table)\n",
    "  (let ((record (assoc key (table-records table))))\n",
    "    (if record\n",
    "        (set-cdr! record value)\n",
    "        (set-table-records! \n",
    "         table\n",
    "         (cons (cons key value)\n",
    "           (table-records table))))\n",
    "    'done))\n",
    "\n",
    "(define (lookup key table)\n",
    "  (let ((record (assoc key (table-records table))))\n",
    "    (if record\n",
    "        (cdr record)\n",
    "        #f)))"
   ]
  },
  {
   "cell_type": "markdown",
   "id": "bb6cd264-7ec9-4586-8ef4-9109bfa783a4",
   "metadata": {},
   "source": [
    "## Metacircular interpreter v1"
   ]
  },
  {
   "cell_type": "code",
   "execution_count": 420,
   "id": "c2497ec5-1965-48df-9fe8-5fdce17b51f6",
   "metadata": {},
   "outputs": [],
   "source": [
    "\n",
    ";; def add(exp):\n",
    ";;     return sum(exp)\n",
    "\n",
    ";; def sub(exp):\n",
    ";;     return exp[0] - exp[1]\n",
    "\n",
    ";; def multiply(exp):\n",
    ";;     return exp[0] * exp[1]\n",
    "\n",
    ";; def divide(exp):\n",
    ";;     return exp[0] / exp[1]\n",
    "\n",
    ";; def mod(exp):\n",
    ";;     return exp[0] % exp[1]\n",
    "\n",
    ";; def gt(exp):\n",
    ";;     return exp[0] > exp[1]\n",
    "\n",
    ";; def lt(exp):\n",
    ";;     return exp[0] < exp[1]\n",
    "\n",
    ";; def eq(exp):\n",
    ";;     return exp[0] == exp[1]"
   ]
  },
  {
   "cell_type": "code",
   "execution_count": 421,
   "id": "10fbda55-a57d-4682-84aa-0c582036bb7e",
   "metadata": {},
   "outputs": [],
   "source": [
    "(define (reset-env env) \n",
    "      (define (add exp) \n",
    "            (apply + exp))\n",
    "      (define (sub exp) \n",
    "            (apply - exp))\n",
    "      (define (mul exp) \n",
    "            (apply * exp))\n",
    "      (define (div exp) \n",
    "            (apply / exp))\n",
    "      (define (mod exp) \n",
    "            (apply % exp))\n",
    "      (define (gt exp) \n",
    "            (apply > exp))\n",
    "      (define (lt exp) \n",
    "            (apply < exp))\n",
    "      (define (eq exp) \n",
    "            (apply eq? exp))\n",
    "  \n",
    "      (insert! '+ add env)\n",
    "      (insert! '- sub env)\n",
    "      (insert! '* mul env)\n",
    "      (insert! '/ div env)\n",
    "      (insert! '% mod env)\n",
    "      (insert! '> gt env)\n",
    "      (insert! '< lt env)\n",
    "      (insert! '= eq env)\n",
    "      )"
   ]
  },
  {
   "cell_type": "code",
   "execution_count": 422,
   "id": "2a4c8374-395d-4379-a839-51a563712134",
   "metadata": {},
   "outputs": [],
   "source": [
    "(define (getcondif exp) \n",
    "    (cadr exp))\n",
    "(define (getxif exp) \n",
    "    (caddr exp))\n",
    "(define (getyif exp) \n",
    "    (cadddr exp))\n",
    "\n",
    "\n",
    "(define (getvardef exp) \n",
    "    (cadr exp))\n",
    "(define (getvaldef exp) \n",
    "    (caddr exp))"
   ]
  },
  {
   "cell_type": "code",
   "execution_count": 437,
   "id": "4dabf910-1004-4cec-a7b8-29ea6721e539",
   "metadata": {},
   "outputs": [],
   "source": [
    "(define (x a b) (+ a b))"
   ]
  },
  {
   "cell_type": "code",
   "execution_count": 441,
   "id": "0e40b177-a6eb-4976-b95f-04dcf62cc7f1",
   "metadata": {},
   "outputs": [],
   "source": [
    "(define (map-eval l env)\n",
    "      (cond ((null? l) '())\n",
    "            (else (cons (eval (car l) env) (map-eval (cdr l) env)))))"
   ]
  },
  {
   "cell_type": "markdown",
   "id": "7b8fc48d-5868-45c2-8c42-f199a62a162a",
   "metadata": {},
   "source": [
    "### Checks"
   ]
  },
  {
   "cell_type": "code",
   "execution_count": 699,
   "id": "26cef81c-51db-45ca-b4dd-363671a7a7da",
   "metadata": {},
   "outputs": [],
   "source": [
    "\n",
    "(define (literal? exp) \n",
    "    (number? exp))\n",
    "(define (variable? exp) \n",
    "    (symbol? exp))\n",
    "(define (conditional? exp) \n",
    "    (and (> (length exp) 1) (eq? (car exp) 'if)))\n",
    "(define (define? exp) \n",
    "    (and (> (length exp) 1) (eq? (car exp) 'define)))\n",
    "(define (mprocedure? exp env) \n",
    "    (list? exp))\n"
   ]
  },
  {
   "cell_type": "markdown",
   "id": "fa3a8710-cca2-41d1-b095-88b6107c567a",
   "metadata": {},
   "source": [
    "### Functions"
   ]
  },
  {
   "cell_type": "code",
   "execution_count": 753,
   "id": "56292130-07e1-489e-8d68-41841f57d2c8",
   "metadata": {},
   "outputs": [],
   "source": [
    "\n",
    "(define (eval_literal exp) \n",
    "    exp)\n",
    "\n",
    "(define (lookupenv exp env) \n",
    "    (let ((lookupval (lookup exp env)))\n",
    "      ;; (display lookupval)\n",
    "      (if lookupval\n",
    "          (lookupenv lookupval env)\n",
    "          exp)))\n",
    "\n",
    "(define (eval_cond exp env) \n",
    "    (let ((condition (eval (getcondif exp) env))\n",
    "          (x (eval (getxif exp) env))\n",
    "          (y (eval (getyif exp) env))) \n",
    "\n",
    "          (if condition\n",
    "              x\n",
    "              y)))\n",
    "\n",
    "(define (definefunc exp env) \n",
    "    (let ((var (getvardef exp))\n",
    "          (value (eval (getvaldef exp) env)))\n",
    "\n",
    "          (insert! var value env)))\n",
    "\n",
    "(define (call_procedure exp env) \n",
    "   (if (> (length exp) 0)\n",
    "    (let ((proc (eval (car exp) env)))\n",
    "\n",
    "          (cond ((procedure? proc) \n",
    "                     ;; (display (cdr exp))\n",
    "                     (proc (map-eval (cdr exp) env)))\n",
    "                ((eq? (length exp) 1) (car exp))\n",
    "                (else \n",
    "                     (display \"Illegal function\")\n",
    "                     None)))\n",
    "      None\n",
    "          ))"
   ]
  },
  {
   "cell_type": "markdown",
   "id": "58baa979-46d5-461a-851c-f17d6a59ba87",
   "metadata": {},
   "source": [
    "### Markdown"
   ]
  },
  {
   "cell_type": "code",
   "execution_count": 754,
   "id": "d5cc51e7-76bc-4008-b958-84c082e7d32e",
   "metadata": {},
   "outputs": [],
   "source": [
    "(define (eval exp env) \n",
    "  \n",
    "  (cond ((literal? exp) \n",
    "             (eval_literal exp))\n",
    "        ((variable? exp) \n",
    "             (lookupenv exp env))\n",
    "        ((conditional? exp) \n",
    "             (eval_cond exp env))\n",
    "        ((define? exp) \n",
    "             (definefunc exp env))\n",
    "        ((mprocedure? exp env)\n",
    "             (call_procedure exp env))\n",
    "        (else \n",
    "             (error \"Looks like a syntax issue\") \n",
    "             None)))"
   ]
  },
  {
   "cell_type": "code",
   "execution_count": 755,
   "id": "2bc9f375-7d90-4194-abdf-1dd6152a8917",
   "metadata": {},
   "outputs": [
    {
     "data": {
      "text/plain": [
       "done"
      ]
     },
     "execution_count": 755,
     "metadata": {},
     "output_type": "execute_result"
    }
   ],
   "source": [
    "(define env (make-table))\n",
    "(reset-env env)"
   ]
  },
  {
   "cell_type": "code",
   "execution_count": 756,
   "id": "ecbafbf4-bf94-4188-b9dd-53ea3ce6a8a5",
   "metadata": {},
   "outputs": [],
   "source": [
    "(define exp '(* 1 2 3))"
   ]
  },
  {
   "cell_type": "code",
   "execution_count": 757,
   "id": "4abdd4f6-ebdb-4585-b0db-ec8f709de0a5",
   "metadata": {},
   "outputs": [
    {
     "data": {
      "text/plain": [
       "6"
      ]
     },
     "execution_count": 757,
     "metadata": {},
     "output_type": "execute_result"
    }
   ],
   "source": [
    "(eval exp env)"
   ]
  },
  {
   "cell_type": "markdown",
   "id": "18dab998-cba0-49ad-87ac-2f4c14c7eb1d",
   "metadata": {},
   "source": [
    "self evaluating"
   ]
  },
  {
   "cell_type": "code",
   "execution_count": 758,
   "id": "b59736fd-e99f-4850-8e09-3eee41aa1167",
   "metadata": {},
   "outputs": [
    {
     "data": {
      "text/plain": [
       "1"
      ]
     },
     "execution_count": 758,
     "metadata": {},
     "output_type": "execute_result"
    }
   ],
   "source": [
    "(eval '1 env)"
   ]
  },
  {
   "cell_type": "markdown",
   "id": "f8a8fcc4-c795-42fe-8700-17ba44fe269a",
   "metadata": {},
   "source": [
    "define"
   ]
  },
  {
   "cell_type": "code",
   "execution_count": 759,
   "id": "10df92bd-018c-45df-91aa-70f300cdb273",
   "metadata": {},
   "outputs": [
    {
     "data": {
      "text/plain": [
       "done"
      ]
     },
     "execution_count": 759,
     "metadata": {},
     "output_type": "execute_result"
    }
   ],
   "source": [
    "(eval '(define x 10) env)"
   ]
  },
  {
   "cell_type": "code",
   "execution_count": 760,
   "id": "f872fb77-3a20-468d-8b17-9992bb4fca35",
   "metadata": {},
   "outputs": [
    {
     "data": {
      "text/plain": [
       "10"
      ]
     },
     "execution_count": 760,
     "metadata": {},
     "output_type": "execute_result"
    }
   ],
   "source": [
    "(eval 'x env)"
   ]
  },
  {
   "cell_type": "markdown",
   "id": "fcdc9238-1c71-4f7a-830f-3a38c6e9f97b",
   "metadata": {},
   "source": [
    "null func"
   ]
  },
  {
   "cell_type": "code",
   "execution_count": 761,
   "id": "c63df80a-5ef2-4669-87ee-6eef98025c02",
   "metadata": {},
   "outputs": [],
   "source": [
    "(eval '() env)"
   ]
  },
  {
   "cell_type": "markdown",
   "id": "593d1d38-7c61-43f3-b64d-aaa8f26df152",
   "metadata": {},
   "source": [
    "arithmetic"
   ]
  },
  {
   "cell_type": "code",
   "execution_count": 762,
   "id": "2c66159a-b09a-45dc-a268-bada63b43fd6",
   "metadata": {},
   "outputs": [
    {
     "data": {
      "text/plain": [
       "3"
      ]
     },
     "execution_count": 762,
     "metadata": {},
     "output_type": "execute_result"
    }
   ],
   "source": [
    "(eval '(+ 1 2) env)"
   ]
  },
  {
   "cell_type": "code",
   "execution_count": 763,
   "id": "0e629835-5926-4944-9580-04e26b5d1d6f",
   "metadata": {},
   "outputs": [
    {
     "data": {
      "text/plain": [
       "26"
      ]
     },
     "execution_count": 763,
     "metadata": {},
     "output_type": "execute_result"
    }
   ],
   "source": [
    "(eval '(+ (* 2 3) (* 4 5)) env)"
   ]
  },
  {
   "cell_type": "code",
   "execution_count": 764,
   "id": "497483fc-8d8a-4927-b041-9489ec23d768",
   "metadata": {},
   "outputs": [
    {
     "data": {
      "text/plain": [
       "45"
      ]
     },
     "execution_count": 764,
     "metadata": {},
     "output_type": "execute_result"
    }
   ],
   "source": [
    "(eval '(* (+ 2 3) (+ 4 5)) env)"
   ]
  },
  {
   "cell_type": "code",
   "execution_count": 765,
   "id": "9f6caa76-26a6-4a5c-961c-1034935b746f",
   "metadata": {},
   "outputs": [
    {
     "data": {
      "text/plain": [
       "done"
      ]
     },
     "execution_count": 765,
     "metadata": {},
     "output_type": "execute_result"
    }
   ],
   "source": [
    "(eval '(define x 10) env)"
   ]
  },
  {
   "cell_type": "code",
   "execution_count": 766,
   "id": "17d90ab3-f571-47c7-b6fd-1be241f662a4",
   "metadata": {},
   "outputs": [
    {
     "data": {
      "text/plain": [
       "11"
      ]
     },
     "execution_count": 766,
     "metadata": {},
     "output_type": "execute_result"
    }
   ],
   "source": [
    "(eval '(+ x 1) env)"
   ]
  },
  {
   "cell_type": "code",
   "execution_count": 767,
   "id": "1ea6b5fb-fe37-4560-a58e-ec5106387ddc",
   "metadata": {},
   "outputs": [
    {
     "data": {
      "text/plain": [
       "110"
      ]
     },
     "execution_count": 767,
     "metadata": {},
     "output_type": "execute_result"
    }
   ],
   "source": [
    "(eval '(* x (+ x 1)) env)"
   ]
  },
  {
   "cell_type": "markdown",
   "id": "455bd882-623a-4c29-8320-c3f64c108008",
   "metadata": {},
   "source": [
    "Conditional"
   ]
  },
  {
   "cell_type": "code",
   "execution_count": 768,
   "id": "1e8edb66-fec3-40d7-9a7f-bb5b95e06645",
   "metadata": {},
   "outputs": [
    {
     "data": {
      "text/plain": [
       "20"
      ]
     },
     "execution_count": 768,
     "metadata": {},
     "output_type": "execute_result"
    }
   ],
   "source": [
    "(eval '(if (> 2 1) 20 10) env)"
   ]
  },
  {
   "cell_type": "code",
   "execution_count": 769,
   "id": "90cf56c3-0486-4e59-b0a2-e1f43205c755",
   "metadata": {},
   "outputs": [
    {
     "data": {
      "text/plain": [
       "10"
      ]
     },
     "execution_count": 769,
     "metadata": {},
     "output_type": "execute_result"
    }
   ],
   "source": [
    "(eval '(if (< 2 1) 20 10) env)"
   ]
  },
  {
   "cell_type": "code",
   "execution_count": 770,
   "id": "bb04980d-6427-4f14-95d1-b85da495fd19",
   "metadata": {},
   "outputs": [
    {
     "data": {
      "text/plain": [
       "done"
      ]
     },
     "execution_count": 770,
     "metadata": {},
     "output_type": "execute_result"
    }
   ],
   "source": [
    "(eval '(define x 10) env)"
   ]
  },
  {
   "cell_type": "code",
   "execution_count": 771,
   "id": "4bbcfd86-4e19-4b30-b7d0-7049532ae3a0",
   "metadata": {},
   "outputs": [
    {
     "data": {
      "text/plain": [
       "11"
      ]
     },
     "execution_count": 771,
     "metadata": {},
     "output_type": "execute_result"
    }
   ],
   "source": [
    "(eval '(if (> x 1) (+ x 1) oops!) env)"
   ]
  },
  {
   "cell_type": "markdown",
   "id": "8a87298f-0b23-4c77-82e3-784b4cd26664",
   "metadata": {},
   "source": [
    "MISC"
   ]
  },
  {
   "cell_type": "code",
   "execution_count": 772,
   "id": "e96e17f0-001c-4c05-b134-247ec00d5988",
   "metadata": {},
   "outputs": [
    {
     "data": {
      "text/plain": [
       "done"
      ]
     },
     "execution_count": 772,
     "metadata": {},
     "output_type": "execute_result"
    }
   ],
   "source": [
    "(eval '(define plus +) env)"
   ]
  },
  {
   "cell_type": "code",
   "execution_count": 773,
   "id": "cdb8fe0d-fa33-40a2-939f-70f6d72cea51",
   "metadata": {},
   "outputs": [
    {
     "data": {
      "text/plain": [
       "5"
      ]
     },
     "execution_count": 773,
     "metadata": {},
     "output_type": "execute_result"
    }
   ],
   "source": [
    "(eval '(plus 2 3) env)"
   ]
  },
  {
   "cell_type": "code",
   "execution_count": 774,
   "id": "5e742209-8799-4a82-b4c1-2a4d827fde5c",
   "metadata": {},
   "outputs": [
    {
     "data": {
      "text/plain": [
       "done"
      ]
     },
     "execution_count": 774,
     "metadata": {},
     "output_type": "execute_result"
    }
   ],
   "source": [
    "(eval '(define + 3) env)"
   ]
  },
  {
   "cell_type": "code",
   "execution_count": 775,
   "id": "72567836-dbe9-493a-a272-9e8ff2c17e16",
   "metadata": {},
   "outputs": [
    {
     "data": {
      "text/plain": [
       "9"
      ]
     },
     "execution_count": 775,
     "metadata": {},
     "output_type": "execute_result"
    }
   ],
   "source": [
    "(eval '(* + +) env)"
   ]
  },
  {
   "cell_type": "code",
   "execution_count": 776,
   "id": "9ce8f378-8020-447e-8d50-1e610a008a1b",
   "metadata": {},
   "outputs": [
    {
     "name": "stdout",
     "output_type": "stream",
     "text": [
      "Illegal function"
     ]
    }
   ],
   "source": [
    "(eval '(+ 1 2) env)"
   ]
  },
  {
   "cell_type": "code",
   "execution_count": null,
   "id": "d0018415-18bd-4776-83d5-6d0c39155ed0",
   "metadata": {},
   "outputs": [],
   "source": []
  },
  {
   "cell_type": "code",
   "execution_count": null,
   "id": "cc98d8d6-c4f1-45ab-a9a4-6372adae6ba4",
   "metadata": {},
   "outputs": [],
   "source": []
  },
  {
   "cell_type": "code",
   "execution_count": null,
   "id": "8f90fc4d-7391-482e-8b63-5cd94b31ee58",
   "metadata": {},
   "outputs": [],
   "source": []
  },
  {
   "cell_type": "code",
   "execution_count": null,
   "id": "55103d5f-37cb-4677-a972-da0918d9db55",
   "metadata": {},
   "outputs": [],
   "source": []
  },
  {
   "cell_type": "code",
   "execution_count": null,
   "id": "da484fce-71fb-4ebc-ab96-77c403c2cc24",
   "metadata": {},
   "outputs": [],
   "source": []
  },
  {
   "cell_type": "code",
   "execution_count": null,
   "id": "e55b51de-d53d-4ea1-bbe8-abb8e9b74361",
   "metadata": {},
   "outputs": [],
   "source": []
  },
  {
   "cell_type": "code",
   "execution_count": null,
   "id": "8ba253a8-1601-4d8a-9c94-3874b1012d14",
   "metadata": {},
   "outputs": [],
   "source": []
  },
  {
   "cell_type": "code",
   "execution_count": null,
   "id": "4c89c147-e897-4713-990f-5e809a3f2c63",
   "metadata": {},
   "outputs": [],
   "source": []
  },
  {
   "cell_type": "code",
   "execution_count": null,
   "id": "e700680e-4580-46d2-909f-114f80aa4e57",
   "metadata": {},
   "outputs": [],
   "source": []
  }
 ],
 "metadata": {
  "kernelspec": {
   "display_name": "Calysto Scheme 3",
   "language": "scheme",
   "name": "calysto_scheme"
  },
  "language_info": {
   "codemirror_mode": {
    "name": "scheme"
   },
   "mimetype": "text/x-scheme",
   "name": "scheme",
   "pygments_lexer": "scheme"
  }
 },
 "nbformat": 4,
 "nbformat_minor": 5
}
