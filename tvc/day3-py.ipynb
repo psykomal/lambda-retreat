{
 "cells": [
  {
   "cell_type": "markdown",
   "id": "e0b01692-f29d-4f85-a8ba-3b94306c0931",
   "metadata": {},
   "source": [
    "\n",
    "## Scheme Calculator\n",
    "\n",
    "Implement an interpreter for a small subset of scheme with the following features in Python.\n",
    "\n",
    "    Constant literals - only integers\n",
    "    variable reference\n",
    "    if/conditionals\n",
    "    define\n",
    "    procedure call - only primitive procedures\n",
    "\n",
    "You can use the following code as a starting point.\n"
   ]
  },
  {
   "cell_type": "code",
   "execution_count": null,
   "id": "ab2bf66f-0d76-401e-bdc9-dcd70313af70",
   "metadata": {},
   "outputs": [],
   "source": [
    "\n",
    "\n",
    "%%file scheme.py\n",
    "\"\"\"Interpreter for a small subset of Scheme.\n",
    "\"\"\"\n",
    "\n",
    "def tokenize(code):\n",
    "    return code.replace(\"(\", \"( \").replace(\")\", \" )\").split()\n",
    "\n",
    "def parse(code):\n",
    "    def parse_node():\n",
    "        nonlocal tokens\n",
    "        current = tokens[0]\n",
    "        if current == \"(\":\n",
    "            tokens = tokens[1:]\n",
    "            result = []\n",
    "            while tokens[0] != \")\":\n",
    "                result.append(parse_node())\n",
    "            tokens = tokens[1:]\n",
    "            return result\n",
    "        elif current.isdigit():\n",
    "            tokens = tokens[1:]\n",
    "            return int(current)\n",
    "        else:\n",
    "            tokens = tokens[1:]\n",
    "            return current\n",
    "\n",
    "    tokens = tokenize(code)\n",
    "    return parse_node()\n",
    "\n",
    "def setup_env():\n",
    "    env = {}\n",
    "    # TODO: add any builtins that you want to include\n",
    "    return env\n",
    "\n",
    "global_env = setup_env()\n",
    "\n",
    "def eval(exp, env=global_env):\n",
    "    print(\"eval\", exp)\n",
    "    # TODO: fix me\n",
    "    return exp\n",
    "\n",
    "def run(code):\n",
    "    return eval(parse(code))\n",
    "\n",
    "def schemestr(val):\n",
    "    return val\n",
    "\n",
    "def repl(prompt='> '):\n",
    "    while True:\n",
    "        val = eval(parse(input(prompt)))\n",
    "        if val is not None:\n",
    "            print(schemestr(val))\n",
    "\n",
    "def main():\n",
    "    import sys\n",
    "    if len(sys.argv) > 1:\n",
    "        filename = sys.argv[1]\n",
    "        code = open(filename).read()\n",
    "        run(code)\n",
    "    else:\n",
    "        repl()\n",
    "\n",
    "if __name__ == \"__main__\":\n",
    "    main()\n",
    "\n"
   ]
  },
  {
   "cell_type": "code",
   "execution_count": null,
   "id": "186bf4c2-bd95-465e-926f-d8ddfd58ff1e",
   "metadata": {},
   "outputs": [],
   "source": [
    "x = 3\n",
    "type(x)"
   ]
  },
  {
   "cell_type": "code",
   "execution_count": null,
   "id": "37f66407-ad1f-46d6-96f1-8345150d39d5",
   "metadata": {},
   "outputs": [],
   "source": [
    "x = list(map(abs, [-1, -2]))"
   ]
  },
  {
   "cell_type": "code",
   "execution_count": null,
   "id": "5864ff52-9905-403c-9224-55f4608c52c6",
   "metadata": {},
   "outputs": [],
   "source": [
    "x[1]"
   ]
  },
  {
   "cell_type": "code",
   "execution_count": null,
   "id": "74c2073e-3ff6-48e0-886f-c146aef1ebae",
   "metadata": {},
   "outputs": [],
   "source": [
    "def x():\n",
    "    return None"
   ]
  },
  {
   "cell_type": "code",
   "execution_count": null,
   "id": "e91efeb9-9eb8-496a-8ab6-1c2b890669b4",
   "metadata": {},
   "outputs": [],
   "source": [
    "str(type(x))"
   ]
  },
  {
   "cell_type": "markdown",
   "id": "259e3bf8-d473-412d-8449-81e5351c5365",
   "metadata": {},
   "source": [
    "```\n",
    "- referential transparency - substitution model\n",
    "```"
   ]
  },
  {
   "cell_type": "code",
   "execution_count": null,
   "id": "f1b0af74-fc14-4270-8924-150a2c7a3bce",
   "metadata": {},
   "outputs": [],
   "source": []
  },
  {
   "cell_type": "code",
   "execution_count": null,
   "id": "3a4c75fa-915b-4fd2-90b7-03aa785b27d8",
   "metadata": {},
   "outputs": [],
   "source": [
    "(import \"builtins\")\n",
    "(define python builtins)\n",
    "\n",
    "(import \"requests\")\n",
    "(import \"IPython.display\")\n",
    "\n",
    "\n",
    "(define url \"http://192.168.225.37:8000/box\")\n",
    "\n",
    "(define (box code)\n",
    "  (define r (requests.post url (python.str code)))\n",
    "  (IPython.display.Image r.content None None \"png\"))\n",
    "\n"
   ]
  },
  {
   "cell_type": "code",
   "execution_count": null,
   "id": "def6cf15-93f0-4d5c-97d8-134e940804ea",
   "metadata": {},
   "outputs": [],
   "source": []
  },
  {
   "cell_type": "code",
   "execution_count": null,
   "id": "192b5b2f-2dd6-44b5-8428-c1c701e37628",
   "metadata": {},
   "outputs": [],
   "source": []
  },
  {
   "cell_type": "code",
   "execution_count": null,
   "id": "950b81f3-b94d-4b79-a490-7bcb1636fd6c",
   "metadata": {},
   "outputs": [],
   "source": []
  }
 ],
 "metadata": {
  "kernelspec": {
   "display_name": "Python 3 (ipykernel)",
   "language": "python",
   "name": "python3"
  },
  "language_info": {
   "codemirror_mode": {
    "name": "ipython",
    "version": 3
   },
   "file_extension": ".py",
   "mimetype": "text/x-python",
   "name": "python",
   "nbconvert_exporter": "python",
   "pygments_lexer": "ipython3",
   "version": "3.9.12"
  }
 },
 "nbformat": 4,
 "nbformat_minor": 5
}
